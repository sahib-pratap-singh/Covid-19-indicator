{
 "cells": [
  {
   "cell_type": "code",
   "execution_count": 25,
   "metadata": {},
   "outputs": [],
   "source": [
    "import pandas as pd\n",
    "import matplotlib.pyplot as plt\n",
    "import requests\n",
    "from bs4 import BeautifulSoup\n",
    "import numpy as np\n",
    "import seaborn as sns\n",
    "import plotly.express as px"
   ]
  },
  {
   "cell_type": "code",
   "execution_count": 26,
   "metadata": {},
   "outputs": [],
   "source": [
    "web_content = requests.get('https://www.mohfw.gov.in/').text"
   ]
  },
  {
   "cell_type": "code",
   "execution_count": 27,
   "metadata": {},
   "outputs": [
    {
     "data": {
      "text/html": [
       "<div>\n",
       "<style scoped>\n",
       "    .dataframe tbody tr th:only-of-type {\n",
       "        vertical-align: middle;\n",
       "    }\n",
       "\n",
       "    .dataframe tbody tr th {\n",
       "        vertical-align: top;\n",
       "    }\n",
       "\n",
       "    .dataframe thead th {\n",
       "        text-align: right;\n",
       "    }\n",
       "</style>\n",
       "<table border=\"1\" class=\"dataframe\">\n",
       "  <thead>\n",
       "    <tr style=\"text-align: right;\">\n",
       "      <th></th>\n",
       "      <th>Sr.No</th>\n",
       "      <th>States/UT</th>\n",
       "      <th>Confirmed</th>\n",
       "      <th>Recovered</th>\n",
       "      <th>Deceased</th>\n",
       "    </tr>\n",
       "  </thead>\n",
       "  <tbody>\n",
       "    <tr>\n",
       "      <th>0</th>\n",
       "      <td>1</td>\n",
       "      <td>Andaman and Nicobar Islands</td>\n",
       "      <td>33</td>\n",
       "      <td>33</td>\n",
       "      <td>0</td>\n",
       "    </tr>\n",
       "    <tr>\n",
       "      <th>1</th>\n",
       "      <td>2</td>\n",
       "      <td>Andhra Pradesh</td>\n",
       "      <td>2647</td>\n",
       "      <td>1709</td>\n",
       "      <td>53</td>\n",
       "    </tr>\n",
       "    <tr>\n",
       "      <th>2</th>\n",
       "      <td>3</td>\n",
       "      <td>Arunachal Pradesh</td>\n",
       "      <td>1</td>\n",
       "      <td>1</td>\n",
       "      <td>0</td>\n",
       "    </tr>\n",
       "    <tr>\n",
       "      <th>3</th>\n",
       "      <td>4</td>\n",
       "      <td>Assam</td>\n",
       "      <td>203</td>\n",
       "      <td>54</td>\n",
       "      <td>4</td>\n",
       "    </tr>\n",
       "    <tr>\n",
       "      <th>4</th>\n",
       "      <td>5</td>\n",
       "      <td>Bihar</td>\n",
       "      <td>1982</td>\n",
       "      <td>593</td>\n",
       "      <td>11</td>\n",
       "    </tr>\n",
       "    <tr>\n",
       "      <th>5</th>\n",
       "      <td>6</td>\n",
       "      <td>Chandigarh</td>\n",
       "      <td>217</td>\n",
       "      <td>139</td>\n",
       "      <td>3</td>\n",
       "    </tr>\n",
       "    <tr>\n",
       "      <th>6</th>\n",
       "      <td>7</td>\n",
       "      <td>Chhattisgarh</td>\n",
       "      <td>128</td>\n",
       "      <td>59</td>\n",
       "      <td>0</td>\n",
       "    </tr>\n",
       "    <tr>\n",
       "      <th>7</th>\n",
       "      <td>8</td>\n",
       "      <td>Dadar Nagar Haveli</td>\n",
       "      <td>1</td>\n",
       "      <td>0</td>\n",
       "      <td>0</td>\n",
       "    </tr>\n",
       "    <tr>\n",
       "      <th>8</th>\n",
       "      <td>9</td>\n",
       "      <td>Delhi</td>\n",
       "      <td>11659</td>\n",
       "      <td>5567</td>\n",
       "      <td>194</td>\n",
       "    </tr>\n",
       "    <tr>\n",
       "      <th>9</th>\n",
       "      <td>10</td>\n",
       "      <td>Goa</td>\n",
       "      <td>52</td>\n",
       "      <td>7</td>\n",
       "      <td>0</td>\n",
       "    </tr>\n",
       "    <tr>\n",
       "      <th>10</th>\n",
       "      <td>11</td>\n",
       "      <td>Gujarat</td>\n",
       "      <td>12905</td>\n",
       "      <td>5488</td>\n",
       "      <td>773</td>\n",
       "    </tr>\n",
       "    <tr>\n",
       "      <th>11</th>\n",
       "      <td>12</td>\n",
       "      <td>Haryana</td>\n",
       "      <td>1031</td>\n",
       "      <td>681</td>\n",
       "      <td>15</td>\n",
       "    </tr>\n",
       "    <tr>\n",
       "      <th>12</th>\n",
       "      <td>13</td>\n",
       "      <td>Himachal Pradesh</td>\n",
       "      <td>152</td>\n",
       "      <td>59</td>\n",
       "      <td>3</td>\n",
       "    </tr>\n",
       "    <tr>\n",
       "      <th>13</th>\n",
       "      <td>14</td>\n",
       "      <td>Jammu and Kashmir</td>\n",
       "      <td>1449</td>\n",
       "      <td>684</td>\n",
       "      <td>20</td>\n",
       "    </tr>\n",
       "    <tr>\n",
       "      <th>14</th>\n",
       "      <td>15</td>\n",
       "      <td>Jharkhand</td>\n",
       "      <td>290</td>\n",
       "      <td>129</td>\n",
       "      <td>3</td>\n",
       "    </tr>\n",
       "    <tr>\n",
       "      <th>15</th>\n",
       "      <td>16</td>\n",
       "      <td>Karnataka</td>\n",
       "      <td>1605</td>\n",
       "      <td>571</td>\n",
       "      <td>41</td>\n",
       "    </tr>\n",
       "    <tr>\n",
       "      <th>16</th>\n",
       "      <td>17</td>\n",
       "      <td>Kerala</td>\n",
       "      <td>690</td>\n",
       "      <td>510</td>\n",
       "      <td>4</td>\n",
       "    </tr>\n",
       "    <tr>\n",
       "      <th>17</th>\n",
       "      <td>18</td>\n",
       "      <td>Ladakh</td>\n",
       "      <td>44</td>\n",
       "      <td>43</td>\n",
       "      <td>0</td>\n",
       "    </tr>\n",
       "    <tr>\n",
       "      <th>18</th>\n",
       "      <td>19</td>\n",
       "      <td>Madhya Pradesh</td>\n",
       "      <td>5981</td>\n",
       "      <td>2843</td>\n",
       "      <td>270</td>\n",
       "    </tr>\n",
       "    <tr>\n",
       "      <th>19</th>\n",
       "      <td>20</td>\n",
       "      <td>Maharashtra</td>\n",
       "      <td>41642</td>\n",
       "      <td>11726</td>\n",
       "      <td>1454</td>\n",
       "    </tr>\n",
       "    <tr>\n",
       "      <th>20</th>\n",
       "      <td>21</td>\n",
       "      <td>Manipur</td>\n",
       "      <td>25</td>\n",
       "      <td>2</td>\n",
       "      <td>0</td>\n",
       "    </tr>\n",
       "    <tr>\n",
       "      <th>21</th>\n",
       "      <td>22</td>\n",
       "      <td>Meghalaya</td>\n",
       "      <td>14</td>\n",
       "      <td>12</td>\n",
       "      <td>1</td>\n",
       "    </tr>\n",
       "    <tr>\n",
       "      <th>22</th>\n",
       "      <td>23</td>\n",
       "      <td>Mizoram</td>\n",
       "      <td>1</td>\n",
       "      <td>1</td>\n",
       "      <td>0</td>\n",
       "    </tr>\n",
       "    <tr>\n",
       "      <th>23</th>\n",
       "      <td>24</td>\n",
       "      <td>Odisha</td>\n",
       "      <td>1103</td>\n",
       "      <td>393</td>\n",
       "      <td>7</td>\n",
       "    </tr>\n",
       "    <tr>\n",
       "      <th>24</th>\n",
       "      <td>25</td>\n",
       "      <td>Puducherry</td>\n",
       "      <td>20</td>\n",
       "      <td>10</td>\n",
       "      <td>0#</td>\n",
       "    </tr>\n",
       "    <tr>\n",
       "      <th>25</th>\n",
       "      <td>26</td>\n",
       "      <td>Punjab</td>\n",
       "      <td>2028</td>\n",
       "      <td>1819</td>\n",
       "      <td>39</td>\n",
       "    </tr>\n",
       "    <tr>\n",
       "      <th>26</th>\n",
       "      <td>27</td>\n",
       "      <td>Rajasthan</td>\n",
       "      <td>6227</td>\n",
       "      <td>3485</td>\n",
       "      <td>151</td>\n",
       "    </tr>\n",
       "    <tr>\n",
       "      <th>27</th>\n",
       "      <td>28</td>\n",
       "      <td>Tamil Nadu</td>\n",
       "      <td>13967</td>\n",
       "      <td>6282</td>\n",
       "      <td>94</td>\n",
       "    </tr>\n",
       "    <tr>\n",
       "      <th>28</th>\n",
       "      <td>29</td>\n",
       "      <td>Telengana</td>\n",
       "      <td>1699</td>\n",
       "      <td>1035</td>\n",
       "      <td>45</td>\n",
       "    </tr>\n",
       "    <tr>\n",
       "      <th>29</th>\n",
       "      <td>30</td>\n",
       "      <td>Tripura</td>\n",
       "      <td>173</td>\n",
       "      <td>148</td>\n",
       "      <td>0</td>\n",
       "    </tr>\n",
       "    <tr>\n",
       "      <th>30</th>\n",
       "      <td>31</td>\n",
       "      <td>Uttarakhand</td>\n",
       "      <td>146</td>\n",
       "      <td>54</td>\n",
       "      <td>1</td>\n",
       "    </tr>\n",
       "    <tr>\n",
       "      <th>31</th>\n",
       "      <td>32</td>\n",
       "      <td>Uttar Pradesh</td>\n",
       "      <td>5515</td>\n",
       "      <td>3204</td>\n",
       "      <td>138</td>\n",
       "    </tr>\n",
       "    <tr>\n",
       "      <th>32</th>\n",
       "      <td>33</td>\n",
       "      <td>West Bengal</td>\n",
       "      <td>3197</td>\n",
       "      <td>1193</td>\n",
       "      <td>259</td>\n",
       "    </tr>\n",
       "    <tr>\n",
       "      <th>33</th>\n",
       "      <td></td>\n",
       "      <td>Cases being reassigned to states</td>\n",
       "      <td>1620</td>\n",
       "      <td></td>\n",
       "      <td></td>\n",
       "    </tr>\n",
       "    <tr>\n",
       "      <th>34</th>\n",
       "      <td></td>\n",
       "      <td>Total#</td>\n",
       "      <td>118447</td>\n",
       "      <td>48534</td>\n",
       "      <td>3583</td>\n",
       "    </tr>\n",
       "  </tbody>\n",
       "</table>\n",
       "</div>"
      ],
      "text/plain": [
       "   Sr.No                         States/UT Confirmed Recovered Deceased\n",
       "0      1       Andaman and Nicobar Islands        33        33        0\n",
       "1      2                    Andhra Pradesh      2647      1709       53\n",
       "2      3                 Arunachal Pradesh         1         1        0\n",
       "3      4                             Assam       203        54        4\n",
       "4      5                             Bihar      1982       593       11\n",
       "5      6                        Chandigarh       217       139        3\n",
       "6      7                      Chhattisgarh       128        59        0\n",
       "7      8                Dadar Nagar Haveli         1         0        0\n",
       "8      9                             Delhi     11659      5567      194\n",
       "9     10                               Goa        52         7        0\n",
       "10    11                           Gujarat     12905      5488      773\n",
       "11    12                           Haryana      1031       681       15\n",
       "12    13                  Himachal Pradesh       152        59        3\n",
       "13    14                 Jammu and Kashmir      1449       684       20\n",
       "14    15                         Jharkhand       290       129        3\n",
       "15    16                         Karnataka      1605       571       41\n",
       "16    17                            Kerala       690       510        4\n",
       "17    18                            Ladakh        44        43        0\n",
       "18    19                    Madhya Pradesh      5981      2843      270\n",
       "19    20                       Maharashtra     41642     11726     1454\n",
       "20    21                           Manipur        25         2        0\n",
       "21    22                         Meghalaya        14        12        1\n",
       "22    23                           Mizoram         1         1        0\n",
       "23    24                            Odisha      1103       393        7\n",
       "24    25                        Puducherry        20        10       0#\n",
       "25    26                            Punjab      2028      1819       39\n",
       "26    27                         Rajasthan      6227      3485      151\n",
       "27    28                        Tamil Nadu     13967      6282       94\n",
       "28    29                         Telengana      1699      1035       45\n",
       "29    30                           Tripura       173       148        0\n",
       "30    31                       Uttarakhand       146        54        1\n",
       "31    32                     Uttar Pradesh      5515      3204      138\n",
       "32    33                       West Bengal      3197      1193      259\n",
       "33        Cases being reassigned to states      1620                   \n",
       "34                                  Total#    118447     48534     3583"
      ]
     },
     "execution_count": 27,
     "metadata": {},
     "output_type": "execute_result"
    }
   ],
   "source": [
    "# parse the html content\n",
    "soup = BeautifulSoup(web_content, \"html.parser\")\n",
    "# remove any newlines and extra spaces from left and right\n",
    "extract_contents = lambda row: [x.text.replace('\\n', '') for x in row]\n",
    "stats = [] # initialize stats\n",
    "all_rows = soup.find_all('tr') # find all table rows \n",
    "\n",
    "for row in all_rows: \n",
    "    stat = extract_contents(row.find_all('td')) # find all data cells  \n",
    "    # notice that the data that we require is now a list of length 5\n",
    "    if len(stat) == 5: \n",
    "        stats.append(stat)\n",
    "\n",
    "#now convert the data into a pandas dataframe for further processing\n",
    "new_cols = [\"Sr.No\", \"States/UT\",\"Confirmed\",\"Recovered\",\"Deceased\"]\n",
    "state_data = pd.DataFrame(data = stats, columns = new_cols)\n",
    "\n",
    "\n",
    "state_data"
   ]
  },
  {
   "cell_type": "code",
   "execution_count": 28,
   "metadata": {},
   "outputs": [],
   "source": [
    "state_data.drop(state_data.tail(2).index,inplace=True)\n",
    "state_data['Deceased'][24]=0"
   ]
  },
  {
   "cell_type": "code",
   "execution_count": 29,
   "metadata": {},
   "outputs": [],
   "source": [
    "state_data['lat']=[11.7401,15.9129,28.2180,26.244156,25.0961,30.7333,21.295132,20.1809,28.7041,15.2993,22.309425,29.065773,32.084206,33.7782,23.6102,15.317277,10.850516,34.209515,23.473324,19.663280,24.6637,25.4670,23.1645,20.940920,11.9416,31.1471,27.0238,11.1271,18.1124,23.9408,30.0668,26.8467,22.9868]\n",
    "state_data['lon']=[92.6586,79.7400,94.7278,92.537842,85.3131,76.7794,81.828232,73.0169,77.1025,74.1240,72.136230,76.040497,77.571167,76.5762,85.2799,75.713890,76.271080,77.615112,77.947998,75.300293,93.9063,91.3662,92.9376,84.803467,79.8083,75.3412,74.2179,78.6569,79.0193,91.9882,79.0193,80.9462,87.8550]"
   ]
  },
  {
   "cell_type": "code",
   "execution_count": 30,
   "metadata": {},
   "outputs": [],
   "source": [
    "state_data['Confirmed'] = state_data['Confirmed'].map(int)\n",
    "state_data['Recovered'] = state_data['Recovered'].map(int)\n",
    "state_data['Deceased'] = state_data['Deceased'].map(int)"
   ]
  },
  {
   "cell_type": "code",
   "execution_count": 31,
   "metadata": {},
   "outputs": [
    {
     "data": {
      "text/html": [
       "<style  type=\"text/css\" >\n",
       "    #T_9bffde76_9c2a_11ea_96dc_5c879c640c7frow0_col0 {\n",
       "            background-color:  black;\n",
       "            color:  lawngreen;\n",
       "            border-color:  white;\n",
       "        }    #T_9bffde76_9c2a_11ea_96dc_5c879c640c7frow0_col1 {\n",
       "            background-color:  black;\n",
       "            color:  lawngreen;\n",
       "            border-color:  white;\n",
       "        }    #T_9bffde76_9c2a_11ea_96dc_5c879c640c7frow0_col2 {\n",
       "            background-color:  black;\n",
       "            color:  lawngreen;\n",
       "            border-color:  white;\n",
       "        }    #T_9bffde76_9c2a_11ea_96dc_5c879c640c7frow0_col3 {\n",
       "            background-color:  black;\n",
       "            color:  lawngreen;\n",
       "            border-color:  white;\n",
       "        }    #T_9bffde76_9c2a_11ea_96dc_5c879c640c7frow0_col4 {\n",
       "            background-color:  black;\n",
       "            color:  lawngreen;\n",
       "            border-color:  white;\n",
       "        }    #T_9bffde76_9c2a_11ea_96dc_5c879c640c7frow0_col5 {\n",
       "            background-color:  black;\n",
       "            color:  lawngreen;\n",
       "            border-color:  white;\n",
       "        }    #T_9bffde76_9c2a_11ea_96dc_5c879c640c7frow0_col6 {\n",
       "            background-color:  black;\n",
       "            color:  lawngreen;\n",
       "            border-color:  white;\n",
       "        }    #T_9bffde76_9c2a_11ea_96dc_5c879c640c7frow1_col0 {\n",
       "            background-color:  black;\n",
       "            color:  lawngreen;\n",
       "            border-color:  white;\n",
       "        }    #T_9bffde76_9c2a_11ea_96dc_5c879c640c7frow1_col1 {\n",
       "            background-color:  black;\n",
       "            color:  lawngreen;\n",
       "            border-color:  white;\n",
       "        }    #T_9bffde76_9c2a_11ea_96dc_5c879c640c7frow1_col2 {\n",
       "            background-color:  black;\n",
       "            color:  lawngreen;\n",
       "            border-color:  white;\n",
       "        }    #T_9bffde76_9c2a_11ea_96dc_5c879c640c7frow1_col3 {\n",
       "            background-color:  black;\n",
       "            color:  lawngreen;\n",
       "            border-color:  white;\n",
       "        }    #T_9bffde76_9c2a_11ea_96dc_5c879c640c7frow1_col4 {\n",
       "            background-color:  black;\n",
       "            color:  lawngreen;\n",
       "            border-color:  white;\n",
       "        }    #T_9bffde76_9c2a_11ea_96dc_5c879c640c7frow1_col5 {\n",
       "            background-color:  black;\n",
       "            color:  lawngreen;\n",
       "            border-color:  white;\n",
       "        }    #T_9bffde76_9c2a_11ea_96dc_5c879c640c7frow1_col6 {\n",
       "            background-color:  black;\n",
       "            color:  lawngreen;\n",
       "            border-color:  white;\n",
       "        }    #T_9bffde76_9c2a_11ea_96dc_5c879c640c7frow2_col0 {\n",
       "            background-color:  black;\n",
       "            color:  lawngreen;\n",
       "            border-color:  white;\n",
       "        }    #T_9bffde76_9c2a_11ea_96dc_5c879c640c7frow2_col1 {\n",
       "            background-color:  black;\n",
       "            color:  lawngreen;\n",
       "            border-color:  white;\n",
       "        }    #T_9bffde76_9c2a_11ea_96dc_5c879c640c7frow2_col2 {\n",
       "            background-color:  black;\n",
       "            color:  lawngreen;\n",
       "            border-color:  white;\n",
       "        }    #T_9bffde76_9c2a_11ea_96dc_5c879c640c7frow2_col3 {\n",
       "            background-color:  black;\n",
       "            color:  lawngreen;\n",
       "            border-color:  white;\n",
       "        }    #T_9bffde76_9c2a_11ea_96dc_5c879c640c7frow2_col4 {\n",
       "            background-color:  black;\n",
       "            color:  lawngreen;\n",
       "            border-color:  white;\n",
       "        }    #T_9bffde76_9c2a_11ea_96dc_5c879c640c7frow2_col5 {\n",
       "            background-color:  black;\n",
       "            color:  lawngreen;\n",
       "            border-color:  white;\n",
       "        }    #T_9bffde76_9c2a_11ea_96dc_5c879c640c7frow2_col6 {\n",
       "            background-color:  black;\n",
       "            color:  lawngreen;\n",
       "            border-color:  white;\n",
       "        }    #T_9bffde76_9c2a_11ea_96dc_5c879c640c7frow3_col0 {\n",
       "            background-color:  black;\n",
       "            color:  lawngreen;\n",
       "            border-color:  white;\n",
       "        }    #T_9bffde76_9c2a_11ea_96dc_5c879c640c7frow3_col1 {\n",
       "            background-color:  black;\n",
       "            color:  lawngreen;\n",
       "            border-color:  white;\n",
       "        }    #T_9bffde76_9c2a_11ea_96dc_5c879c640c7frow3_col2 {\n",
       "            background-color:  black;\n",
       "            color:  lawngreen;\n",
       "            border-color:  white;\n",
       "        }    #T_9bffde76_9c2a_11ea_96dc_5c879c640c7frow3_col3 {\n",
       "            background-color:  black;\n",
       "            color:  lawngreen;\n",
       "            border-color:  white;\n",
       "        }    #T_9bffde76_9c2a_11ea_96dc_5c879c640c7frow3_col4 {\n",
       "            background-color:  black;\n",
       "            color:  lawngreen;\n",
       "            border-color:  white;\n",
       "        }    #T_9bffde76_9c2a_11ea_96dc_5c879c640c7frow3_col5 {\n",
       "            background-color:  black;\n",
       "            color:  lawngreen;\n",
       "            border-color:  white;\n",
       "        }    #T_9bffde76_9c2a_11ea_96dc_5c879c640c7frow3_col6 {\n",
       "            background-color:  black;\n",
       "            color:  lawngreen;\n",
       "            border-color:  white;\n",
       "        }    #T_9bffde76_9c2a_11ea_96dc_5c879c640c7frow4_col0 {\n",
       "            background-color:  black;\n",
       "            color:  lawngreen;\n",
       "            border-color:  white;\n",
       "        }    #T_9bffde76_9c2a_11ea_96dc_5c879c640c7frow4_col1 {\n",
       "            background-color:  black;\n",
       "            color:  lawngreen;\n",
       "            border-color:  white;\n",
       "        }    #T_9bffde76_9c2a_11ea_96dc_5c879c640c7frow4_col2 {\n",
       "            background-color:  black;\n",
       "            color:  lawngreen;\n",
       "            border-color:  white;\n",
       "        }    #T_9bffde76_9c2a_11ea_96dc_5c879c640c7frow4_col3 {\n",
       "            background-color:  black;\n",
       "            color:  lawngreen;\n",
       "            border-color:  white;\n",
       "        }    #T_9bffde76_9c2a_11ea_96dc_5c879c640c7frow4_col4 {\n",
       "            background-color:  black;\n",
       "            color:  lawngreen;\n",
       "            border-color:  white;\n",
       "        }    #T_9bffde76_9c2a_11ea_96dc_5c879c640c7frow4_col5 {\n",
       "            background-color:  black;\n",
       "            color:  lawngreen;\n",
       "            border-color:  white;\n",
       "        }    #T_9bffde76_9c2a_11ea_96dc_5c879c640c7frow4_col6 {\n",
       "            background-color:  black;\n",
       "            color:  lawngreen;\n",
       "            border-color:  white;\n",
       "        }    #T_9bffde76_9c2a_11ea_96dc_5c879c640c7frow5_col0 {\n",
       "            background-color:  black;\n",
       "            color:  lawngreen;\n",
       "            border-color:  white;\n",
       "        }    #T_9bffde76_9c2a_11ea_96dc_5c879c640c7frow5_col1 {\n",
       "            background-color:  black;\n",
       "            color:  lawngreen;\n",
       "            border-color:  white;\n",
       "        }    #T_9bffde76_9c2a_11ea_96dc_5c879c640c7frow5_col2 {\n",
       "            background-color:  black;\n",
       "            color:  lawngreen;\n",
       "            border-color:  white;\n",
       "        }    #T_9bffde76_9c2a_11ea_96dc_5c879c640c7frow5_col3 {\n",
       "            background-color:  black;\n",
       "            color:  lawngreen;\n",
       "            border-color:  white;\n",
       "        }    #T_9bffde76_9c2a_11ea_96dc_5c879c640c7frow5_col4 {\n",
       "            background-color:  black;\n",
       "            color:  lawngreen;\n",
       "            border-color:  white;\n",
       "        }    #T_9bffde76_9c2a_11ea_96dc_5c879c640c7frow5_col5 {\n",
       "            background-color:  black;\n",
       "            color:  lawngreen;\n",
       "            border-color:  white;\n",
       "        }    #T_9bffde76_9c2a_11ea_96dc_5c879c640c7frow5_col6 {\n",
       "            background-color:  black;\n",
       "            color:  lawngreen;\n",
       "            border-color:  white;\n",
       "        }    #T_9bffde76_9c2a_11ea_96dc_5c879c640c7frow6_col0 {\n",
       "            background-color:  black;\n",
       "            color:  lawngreen;\n",
       "            border-color:  white;\n",
       "        }    #T_9bffde76_9c2a_11ea_96dc_5c879c640c7frow6_col1 {\n",
       "            background-color:  black;\n",
       "            color:  lawngreen;\n",
       "            border-color:  white;\n",
       "        }    #T_9bffde76_9c2a_11ea_96dc_5c879c640c7frow6_col2 {\n",
       "            background-color:  black;\n",
       "            color:  lawngreen;\n",
       "            border-color:  white;\n",
       "        }    #T_9bffde76_9c2a_11ea_96dc_5c879c640c7frow6_col3 {\n",
       "            background-color:  black;\n",
       "            color:  lawngreen;\n",
       "            border-color:  white;\n",
       "        }    #T_9bffde76_9c2a_11ea_96dc_5c879c640c7frow6_col4 {\n",
       "            background-color:  black;\n",
       "            color:  lawngreen;\n",
       "            border-color:  white;\n",
       "        }    #T_9bffde76_9c2a_11ea_96dc_5c879c640c7frow6_col5 {\n",
       "            background-color:  black;\n",
       "            color:  lawngreen;\n",
       "            border-color:  white;\n",
       "        }    #T_9bffde76_9c2a_11ea_96dc_5c879c640c7frow6_col6 {\n",
       "            background-color:  black;\n",
       "            color:  lawngreen;\n",
       "            border-color:  white;\n",
       "        }    #T_9bffde76_9c2a_11ea_96dc_5c879c640c7frow7_col0 {\n",
       "            background-color:  black;\n",
       "            color:  lawngreen;\n",
       "            border-color:  white;\n",
       "        }    #T_9bffde76_9c2a_11ea_96dc_5c879c640c7frow7_col1 {\n",
       "            background-color:  black;\n",
       "            color:  lawngreen;\n",
       "            border-color:  white;\n",
       "        }    #T_9bffde76_9c2a_11ea_96dc_5c879c640c7frow7_col2 {\n",
       "            background-color:  black;\n",
       "            color:  lawngreen;\n",
       "            border-color:  white;\n",
       "        }    #T_9bffde76_9c2a_11ea_96dc_5c879c640c7frow7_col3 {\n",
       "            background-color:  black;\n",
       "            color:  lawngreen;\n",
       "            border-color:  white;\n",
       "        }    #T_9bffde76_9c2a_11ea_96dc_5c879c640c7frow7_col4 {\n",
       "            background-color:  black;\n",
       "            color:  lawngreen;\n",
       "            border-color:  white;\n",
       "        }    #T_9bffde76_9c2a_11ea_96dc_5c879c640c7frow7_col5 {\n",
       "            background-color:  black;\n",
       "            color:  lawngreen;\n",
       "            border-color:  white;\n",
       "        }    #T_9bffde76_9c2a_11ea_96dc_5c879c640c7frow7_col6 {\n",
       "            background-color:  black;\n",
       "            color:  lawngreen;\n",
       "            border-color:  white;\n",
       "        }    #T_9bffde76_9c2a_11ea_96dc_5c879c640c7frow8_col0 {\n",
       "            background-color:  black;\n",
       "            color:  lawngreen;\n",
       "            border-color:  white;\n",
       "        }    #T_9bffde76_9c2a_11ea_96dc_5c879c640c7frow8_col1 {\n",
       "            background-color:  black;\n",
       "            color:  lawngreen;\n",
       "            border-color:  white;\n",
       "        }    #T_9bffde76_9c2a_11ea_96dc_5c879c640c7frow8_col2 {\n",
       "            background-color:  black;\n",
       "            color:  lawngreen;\n",
       "            border-color:  white;\n",
       "        }    #T_9bffde76_9c2a_11ea_96dc_5c879c640c7frow8_col3 {\n",
       "            background-color:  black;\n",
       "            color:  lawngreen;\n",
       "            border-color:  white;\n",
       "        }    #T_9bffde76_9c2a_11ea_96dc_5c879c640c7frow8_col4 {\n",
       "            background-color:  black;\n",
       "            color:  lawngreen;\n",
       "            border-color:  white;\n",
       "        }    #T_9bffde76_9c2a_11ea_96dc_5c879c640c7frow8_col5 {\n",
       "            background-color:  black;\n",
       "            color:  lawngreen;\n",
       "            border-color:  white;\n",
       "        }    #T_9bffde76_9c2a_11ea_96dc_5c879c640c7frow8_col6 {\n",
       "            background-color:  black;\n",
       "            color:  lawngreen;\n",
       "            border-color:  white;\n",
       "        }    #T_9bffde76_9c2a_11ea_96dc_5c879c640c7frow9_col0 {\n",
       "            background-color:  black;\n",
       "            color:  lawngreen;\n",
       "            border-color:  white;\n",
       "        }    #T_9bffde76_9c2a_11ea_96dc_5c879c640c7frow9_col1 {\n",
       "            background-color:  black;\n",
       "            color:  lawngreen;\n",
       "            border-color:  white;\n",
       "        }    #T_9bffde76_9c2a_11ea_96dc_5c879c640c7frow9_col2 {\n",
       "            background-color:  black;\n",
       "            color:  lawngreen;\n",
       "            border-color:  white;\n",
       "        }    #T_9bffde76_9c2a_11ea_96dc_5c879c640c7frow9_col3 {\n",
       "            background-color:  black;\n",
       "            color:  lawngreen;\n",
       "            border-color:  white;\n",
       "        }    #T_9bffde76_9c2a_11ea_96dc_5c879c640c7frow9_col4 {\n",
       "            background-color:  black;\n",
       "            color:  lawngreen;\n",
       "            border-color:  white;\n",
       "        }    #T_9bffde76_9c2a_11ea_96dc_5c879c640c7frow9_col5 {\n",
       "            background-color:  black;\n",
       "            color:  lawngreen;\n",
       "            border-color:  white;\n",
       "        }    #T_9bffde76_9c2a_11ea_96dc_5c879c640c7frow9_col6 {\n",
       "            background-color:  black;\n",
       "            color:  lawngreen;\n",
       "            border-color:  white;\n",
       "        }    #T_9bffde76_9c2a_11ea_96dc_5c879c640c7frow10_col0 {\n",
       "            background-color:  black;\n",
       "            color:  lawngreen;\n",
       "            border-color:  white;\n",
       "        }    #T_9bffde76_9c2a_11ea_96dc_5c879c640c7frow10_col1 {\n",
       "            background-color:  black;\n",
       "            color:  lawngreen;\n",
       "            border-color:  white;\n",
       "        }    #T_9bffde76_9c2a_11ea_96dc_5c879c640c7frow10_col2 {\n",
       "            background-color:  black;\n",
       "            color:  lawngreen;\n",
       "            border-color:  white;\n",
       "        }    #T_9bffde76_9c2a_11ea_96dc_5c879c640c7frow10_col3 {\n",
       "            background-color:  black;\n",
       "            color:  lawngreen;\n",
       "            border-color:  white;\n",
       "        }    #T_9bffde76_9c2a_11ea_96dc_5c879c640c7frow10_col4 {\n",
       "            background-color:  black;\n",
       "            color:  lawngreen;\n",
       "            border-color:  white;\n",
       "        }    #T_9bffde76_9c2a_11ea_96dc_5c879c640c7frow10_col5 {\n",
       "            background-color:  black;\n",
       "            color:  lawngreen;\n",
       "            border-color:  white;\n",
       "        }    #T_9bffde76_9c2a_11ea_96dc_5c879c640c7frow10_col6 {\n",
       "            background-color:  black;\n",
       "            color:  lawngreen;\n",
       "            border-color:  white;\n",
       "        }    #T_9bffde76_9c2a_11ea_96dc_5c879c640c7frow11_col0 {\n",
       "            background-color:  black;\n",
       "            color:  lawngreen;\n",
       "            border-color:  white;\n",
       "        }    #T_9bffde76_9c2a_11ea_96dc_5c879c640c7frow11_col1 {\n",
       "            background-color:  black;\n",
       "            color:  lawngreen;\n",
       "            border-color:  white;\n",
       "        }    #T_9bffde76_9c2a_11ea_96dc_5c879c640c7frow11_col2 {\n",
       "            background-color:  black;\n",
       "            color:  lawngreen;\n",
       "            border-color:  white;\n",
       "        }    #T_9bffde76_9c2a_11ea_96dc_5c879c640c7frow11_col3 {\n",
       "            background-color:  black;\n",
       "            color:  lawngreen;\n",
       "            border-color:  white;\n",
       "        }    #T_9bffde76_9c2a_11ea_96dc_5c879c640c7frow11_col4 {\n",
       "            background-color:  black;\n",
       "            color:  lawngreen;\n",
       "            border-color:  white;\n",
       "        }    #T_9bffde76_9c2a_11ea_96dc_5c879c640c7frow11_col5 {\n",
       "            background-color:  black;\n",
       "            color:  lawngreen;\n",
       "            border-color:  white;\n",
       "        }    #T_9bffde76_9c2a_11ea_96dc_5c879c640c7frow11_col6 {\n",
       "            background-color:  black;\n",
       "            color:  lawngreen;\n",
       "            border-color:  white;\n",
       "        }    #T_9bffde76_9c2a_11ea_96dc_5c879c640c7frow12_col0 {\n",
       "            background-color:  black;\n",
       "            color:  lawngreen;\n",
       "            border-color:  white;\n",
       "        }    #T_9bffde76_9c2a_11ea_96dc_5c879c640c7frow12_col1 {\n",
       "            background-color:  black;\n",
       "            color:  lawngreen;\n",
       "            border-color:  white;\n",
       "        }    #T_9bffde76_9c2a_11ea_96dc_5c879c640c7frow12_col2 {\n",
       "            background-color:  black;\n",
       "            color:  lawngreen;\n",
       "            border-color:  white;\n",
       "        }    #T_9bffde76_9c2a_11ea_96dc_5c879c640c7frow12_col3 {\n",
       "            background-color:  black;\n",
       "            color:  lawngreen;\n",
       "            border-color:  white;\n",
       "        }    #T_9bffde76_9c2a_11ea_96dc_5c879c640c7frow12_col4 {\n",
       "            background-color:  black;\n",
       "            color:  lawngreen;\n",
       "            border-color:  white;\n",
       "        }    #T_9bffde76_9c2a_11ea_96dc_5c879c640c7frow12_col5 {\n",
       "            background-color:  black;\n",
       "            color:  lawngreen;\n",
       "            border-color:  white;\n",
       "        }    #T_9bffde76_9c2a_11ea_96dc_5c879c640c7frow12_col6 {\n",
       "            background-color:  black;\n",
       "            color:  lawngreen;\n",
       "            border-color:  white;\n",
       "        }    #T_9bffde76_9c2a_11ea_96dc_5c879c640c7frow13_col0 {\n",
       "            background-color:  black;\n",
       "            color:  lawngreen;\n",
       "            border-color:  white;\n",
       "        }    #T_9bffde76_9c2a_11ea_96dc_5c879c640c7frow13_col1 {\n",
       "            background-color:  black;\n",
       "            color:  lawngreen;\n",
       "            border-color:  white;\n",
       "        }    #T_9bffde76_9c2a_11ea_96dc_5c879c640c7frow13_col2 {\n",
       "            background-color:  black;\n",
       "            color:  lawngreen;\n",
       "            border-color:  white;\n",
       "        }    #T_9bffde76_9c2a_11ea_96dc_5c879c640c7frow13_col3 {\n",
       "            background-color:  black;\n",
       "            color:  lawngreen;\n",
       "            border-color:  white;\n",
       "        }    #T_9bffde76_9c2a_11ea_96dc_5c879c640c7frow13_col4 {\n",
       "            background-color:  black;\n",
       "            color:  lawngreen;\n",
       "            border-color:  white;\n",
       "        }    #T_9bffde76_9c2a_11ea_96dc_5c879c640c7frow13_col5 {\n",
       "            background-color:  black;\n",
       "            color:  lawngreen;\n",
       "            border-color:  white;\n",
       "        }    #T_9bffde76_9c2a_11ea_96dc_5c879c640c7frow13_col6 {\n",
       "            background-color:  black;\n",
       "            color:  lawngreen;\n",
       "            border-color:  white;\n",
       "        }    #T_9bffde76_9c2a_11ea_96dc_5c879c640c7frow14_col0 {\n",
       "            background-color:  black;\n",
       "            color:  lawngreen;\n",
       "            border-color:  white;\n",
       "        }    #T_9bffde76_9c2a_11ea_96dc_5c879c640c7frow14_col1 {\n",
       "            background-color:  black;\n",
       "            color:  lawngreen;\n",
       "            border-color:  white;\n",
       "        }    #T_9bffde76_9c2a_11ea_96dc_5c879c640c7frow14_col2 {\n",
       "            background-color:  black;\n",
       "            color:  lawngreen;\n",
       "            border-color:  white;\n",
       "        }    #T_9bffde76_9c2a_11ea_96dc_5c879c640c7frow14_col3 {\n",
       "            background-color:  black;\n",
       "            color:  lawngreen;\n",
       "            border-color:  white;\n",
       "        }    #T_9bffde76_9c2a_11ea_96dc_5c879c640c7frow14_col4 {\n",
       "            background-color:  black;\n",
       "            color:  lawngreen;\n",
       "            border-color:  white;\n",
       "        }    #T_9bffde76_9c2a_11ea_96dc_5c879c640c7frow14_col5 {\n",
       "            background-color:  black;\n",
       "            color:  lawngreen;\n",
       "            border-color:  white;\n",
       "        }    #T_9bffde76_9c2a_11ea_96dc_5c879c640c7frow14_col6 {\n",
       "            background-color:  black;\n",
       "            color:  lawngreen;\n",
       "            border-color:  white;\n",
       "        }    #T_9bffde76_9c2a_11ea_96dc_5c879c640c7frow15_col0 {\n",
       "            background-color:  black;\n",
       "            color:  lawngreen;\n",
       "            border-color:  white;\n",
       "        }    #T_9bffde76_9c2a_11ea_96dc_5c879c640c7frow15_col1 {\n",
       "            background-color:  black;\n",
       "            color:  lawngreen;\n",
       "            border-color:  white;\n",
       "        }    #T_9bffde76_9c2a_11ea_96dc_5c879c640c7frow15_col2 {\n",
       "            background-color:  black;\n",
       "            color:  lawngreen;\n",
       "            border-color:  white;\n",
       "        }    #T_9bffde76_9c2a_11ea_96dc_5c879c640c7frow15_col3 {\n",
       "            background-color:  black;\n",
       "            color:  lawngreen;\n",
       "            border-color:  white;\n",
       "        }    #T_9bffde76_9c2a_11ea_96dc_5c879c640c7frow15_col4 {\n",
       "            background-color:  black;\n",
       "            color:  lawngreen;\n",
       "            border-color:  white;\n",
       "        }    #T_9bffde76_9c2a_11ea_96dc_5c879c640c7frow15_col5 {\n",
       "            background-color:  black;\n",
       "            color:  lawngreen;\n",
       "            border-color:  white;\n",
       "        }    #T_9bffde76_9c2a_11ea_96dc_5c879c640c7frow15_col6 {\n",
       "            background-color:  black;\n",
       "            color:  lawngreen;\n",
       "            border-color:  white;\n",
       "        }    #T_9bffde76_9c2a_11ea_96dc_5c879c640c7frow16_col0 {\n",
       "            background-color:  black;\n",
       "            color:  lawngreen;\n",
       "            border-color:  white;\n",
       "        }    #T_9bffde76_9c2a_11ea_96dc_5c879c640c7frow16_col1 {\n",
       "            background-color:  black;\n",
       "            color:  lawngreen;\n",
       "            border-color:  white;\n",
       "        }    #T_9bffde76_9c2a_11ea_96dc_5c879c640c7frow16_col2 {\n",
       "            background-color:  black;\n",
       "            color:  lawngreen;\n",
       "            border-color:  white;\n",
       "        }    #T_9bffde76_9c2a_11ea_96dc_5c879c640c7frow16_col3 {\n",
       "            background-color:  black;\n",
       "            color:  lawngreen;\n",
       "            border-color:  white;\n",
       "        }    #T_9bffde76_9c2a_11ea_96dc_5c879c640c7frow16_col4 {\n",
       "            background-color:  black;\n",
       "            color:  lawngreen;\n",
       "            border-color:  white;\n",
       "        }    #T_9bffde76_9c2a_11ea_96dc_5c879c640c7frow16_col5 {\n",
       "            background-color:  black;\n",
       "            color:  lawngreen;\n",
       "            border-color:  white;\n",
       "        }    #T_9bffde76_9c2a_11ea_96dc_5c879c640c7frow16_col6 {\n",
       "            background-color:  black;\n",
       "            color:  lawngreen;\n",
       "            border-color:  white;\n",
       "        }    #T_9bffde76_9c2a_11ea_96dc_5c879c640c7frow17_col0 {\n",
       "            background-color:  black;\n",
       "            color:  lawngreen;\n",
       "            border-color:  white;\n",
       "        }    #T_9bffde76_9c2a_11ea_96dc_5c879c640c7frow17_col1 {\n",
       "            background-color:  black;\n",
       "            color:  lawngreen;\n",
       "            border-color:  white;\n",
       "        }    #T_9bffde76_9c2a_11ea_96dc_5c879c640c7frow17_col2 {\n",
       "            background-color:  black;\n",
       "            color:  lawngreen;\n",
       "            border-color:  white;\n",
       "        }    #T_9bffde76_9c2a_11ea_96dc_5c879c640c7frow17_col3 {\n",
       "            background-color:  black;\n",
       "            color:  lawngreen;\n",
       "            border-color:  white;\n",
       "        }    #T_9bffde76_9c2a_11ea_96dc_5c879c640c7frow17_col4 {\n",
       "            background-color:  black;\n",
       "            color:  lawngreen;\n",
       "            border-color:  white;\n",
       "        }    #T_9bffde76_9c2a_11ea_96dc_5c879c640c7frow17_col5 {\n",
       "            background-color:  black;\n",
       "            color:  lawngreen;\n",
       "            border-color:  white;\n",
       "        }    #T_9bffde76_9c2a_11ea_96dc_5c879c640c7frow17_col6 {\n",
       "            background-color:  black;\n",
       "            color:  lawngreen;\n",
       "            border-color:  white;\n",
       "        }    #T_9bffde76_9c2a_11ea_96dc_5c879c640c7frow18_col0 {\n",
       "            background-color:  black;\n",
       "            color:  lawngreen;\n",
       "            border-color:  white;\n",
       "        }    #T_9bffde76_9c2a_11ea_96dc_5c879c640c7frow18_col1 {\n",
       "            background-color:  black;\n",
       "            color:  lawngreen;\n",
       "            border-color:  white;\n",
       "        }    #T_9bffde76_9c2a_11ea_96dc_5c879c640c7frow18_col2 {\n",
       "            background-color:  black;\n",
       "            color:  lawngreen;\n",
       "            border-color:  white;\n",
       "        }    #T_9bffde76_9c2a_11ea_96dc_5c879c640c7frow18_col3 {\n",
       "            background-color:  black;\n",
       "            color:  lawngreen;\n",
       "            border-color:  white;\n",
       "        }    #T_9bffde76_9c2a_11ea_96dc_5c879c640c7frow18_col4 {\n",
       "            background-color:  black;\n",
       "            color:  lawngreen;\n",
       "            border-color:  white;\n",
       "        }    #T_9bffde76_9c2a_11ea_96dc_5c879c640c7frow18_col5 {\n",
       "            background-color:  black;\n",
       "            color:  lawngreen;\n",
       "            border-color:  white;\n",
       "        }    #T_9bffde76_9c2a_11ea_96dc_5c879c640c7frow18_col6 {\n",
       "            background-color:  black;\n",
       "            color:  lawngreen;\n",
       "            border-color:  white;\n",
       "        }    #T_9bffde76_9c2a_11ea_96dc_5c879c640c7frow19_col0 {\n",
       "            background-color:  black;\n",
       "            color:  lawngreen;\n",
       "            border-color:  white;\n",
       "        }    #T_9bffde76_9c2a_11ea_96dc_5c879c640c7frow19_col1 {\n",
       "            background-color:  black;\n",
       "            color:  lawngreen;\n",
       "            border-color:  white;\n",
       "        }    #T_9bffde76_9c2a_11ea_96dc_5c879c640c7frow19_col2 {\n",
       "            background-color:  black;\n",
       "            color:  lawngreen;\n",
       "            border-color:  white;\n",
       "        }    #T_9bffde76_9c2a_11ea_96dc_5c879c640c7frow19_col3 {\n",
       "            background-color:  black;\n",
       "            color:  lawngreen;\n",
       "            border-color:  white;\n",
       "        }    #T_9bffde76_9c2a_11ea_96dc_5c879c640c7frow19_col4 {\n",
       "            background-color:  black;\n",
       "            color:  lawngreen;\n",
       "            border-color:  white;\n",
       "        }    #T_9bffde76_9c2a_11ea_96dc_5c879c640c7frow19_col5 {\n",
       "            background-color:  black;\n",
       "            color:  lawngreen;\n",
       "            border-color:  white;\n",
       "        }    #T_9bffde76_9c2a_11ea_96dc_5c879c640c7frow19_col6 {\n",
       "            background-color:  black;\n",
       "            color:  lawngreen;\n",
       "            border-color:  white;\n",
       "        }    #T_9bffde76_9c2a_11ea_96dc_5c879c640c7frow20_col0 {\n",
       "            background-color:  black;\n",
       "            color:  lawngreen;\n",
       "            border-color:  white;\n",
       "        }    #T_9bffde76_9c2a_11ea_96dc_5c879c640c7frow20_col1 {\n",
       "            background-color:  black;\n",
       "            color:  lawngreen;\n",
       "            border-color:  white;\n",
       "        }    #T_9bffde76_9c2a_11ea_96dc_5c879c640c7frow20_col2 {\n",
       "            background-color:  black;\n",
       "            color:  lawngreen;\n",
       "            border-color:  white;\n",
       "        }    #T_9bffde76_9c2a_11ea_96dc_5c879c640c7frow20_col3 {\n",
       "            background-color:  black;\n",
       "            color:  lawngreen;\n",
       "            border-color:  white;\n",
       "        }    #T_9bffde76_9c2a_11ea_96dc_5c879c640c7frow20_col4 {\n",
       "            background-color:  black;\n",
       "            color:  lawngreen;\n",
       "            border-color:  white;\n",
       "        }    #T_9bffde76_9c2a_11ea_96dc_5c879c640c7frow20_col5 {\n",
       "            background-color:  black;\n",
       "            color:  lawngreen;\n",
       "            border-color:  white;\n",
       "        }    #T_9bffde76_9c2a_11ea_96dc_5c879c640c7frow20_col6 {\n",
       "            background-color:  black;\n",
       "            color:  lawngreen;\n",
       "            border-color:  white;\n",
       "        }    #T_9bffde76_9c2a_11ea_96dc_5c879c640c7frow21_col0 {\n",
       "            background-color:  black;\n",
       "            color:  lawngreen;\n",
       "            border-color:  white;\n",
       "        }    #T_9bffde76_9c2a_11ea_96dc_5c879c640c7frow21_col1 {\n",
       "            background-color:  black;\n",
       "            color:  lawngreen;\n",
       "            border-color:  white;\n",
       "        }    #T_9bffde76_9c2a_11ea_96dc_5c879c640c7frow21_col2 {\n",
       "            background-color:  black;\n",
       "            color:  lawngreen;\n",
       "            border-color:  white;\n",
       "        }    #T_9bffde76_9c2a_11ea_96dc_5c879c640c7frow21_col3 {\n",
       "            background-color:  black;\n",
       "            color:  lawngreen;\n",
       "            border-color:  white;\n",
       "        }    #T_9bffde76_9c2a_11ea_96dc_5c879c640c7frow21_col4 {\n",
       "            background-color:  black;\n",
       "            color:  lawngreen;\n",
       "            border-color:  white;\n",
       "        }    #T_9bffde76_9c2a_11ea_96dc_5c879c640c7frow21_col5 {\n",
       "            background-color:  black;\n",
       "            color:  lawngreen;\n",
       "            border-color:  white;\n",
       "        }    #T_9bffde76_9c2a_11ea_96dc_5c879c640c7frow21_col6 {\n",
       "            background-color:  black;\n",
       "            color:  lawngreen;\n",
       "            border-color:  white;\n",
       "        }    #T_9bffde76_9c2a_11ea_96dc_5c879c640c7frow22_col0 {\n",
       "            background-color:  black;\n",
       "            color:  lawngreen;\n",
       "            border-color:  white;\n",
       "        }    #T_9bffde76_9c2a_11ea_96dc_5c879c640c7frow22_col1 {\n",
       "            background-color:  black;\n",
       "            color:  lawngreen;\n",
       "            border-color:  white;\n",
       "        }    #T_9bffde76_9c2a_11ea_96dc_5c879c640c7frow22_col2 {\n",
       "            background-color:  black;\n",
       "            color:  lawngreen;\n",
       "            border-color:  white;\n",
       "        }    #T_9bffde76_9c2a_11ea_96dc_5c879c640c7frow22_col3 {\n",
       "            background-color:  black;\n",
       "            color:  lawngreen;\n",
       "            border-color:  white;\n",
       "        }    #T_9bffde76_9c2a_11ea_96dc_5c879c640c7frow22_col4 {\n",
       "            background-color:  black;\n",
       "            color:  lawngreen;\n",
       "            border-color:  white;\n",
       "        }    #T_9bffde76_9c2a_11ea_96dc_5c879c640c7frow22_col5 {\n",
       "            background-color:  black;\n",
       "            color:  lawngreen;\n",
       "            border-color:  white;\n",
       "        }    #T_9bffde76_9c2a_11ea_96dc_5c879c640c7frow22_col6 {\n",
       "            background-color:  black;\n",
       "            color:  lawngreen;\n",
       "            border-color:  white;\n",
       "        }    #T_9bffde76_9c2a_11ea_96dc_5c879c640c7frow23_col0 {\n",
       "            background-color:  black;\n",
       "            color:  lawngreen;\n",
       "            border-color:  white;\n",
       "        }    #T_9bffde76_9c2a_11ea_96dc_5c879c640c7frow23_col1 {\n",
       "            background-color:  black;\n",
       "            color:  lawngreen;\n",
       "            border-color:  white;\n",
       "        }    #T_9bffde76_9c2a_11ea_96dc_5c879c640c7frow23_col2 {\n",
       "            background-color:  black;\n",
       "            color:  lawngreen;\n",
       "            border-color:  white;\n",
       "        }    #T_9bffde76_9c2a_11ea_96dc_5c879c640c7frow23_col3 {\n",
       "            background-color:  black;\n",
       "            color:  lawngreen;\n",
       "            border-color:  white;\n",
       "        }    #T_9bffde76_9c2a_11ea_96dc_5c879c640c7frow23_col4 {\n",
       "            background-color:  black;\n",
       "            color:  lawngreen;\n",
       "            border-color:  white;\n",
       "        }    #T_9bffde76_9c2a_11ea_96dc_5c879c640c7frow23_col5 {\n",
       "            background-color:  black;\n",
       "            color:  lawngreen;\n",
       "            border-color:  white;\n",
       "        }    #T_9bffde76_9c2a_11ea_96dc_5c879c640c7frow23_col6 {\n",
       "            background-color:  black;\n",
       "            color:  lawngreen;\n",
       "            border-color:  white;\n",
       "        }    #T_9bffde76_9c2a_11ea_96dc_5c879c640c7frow24_col0 {\n",
       "            background-color:  black;\n",
       "            color:  lawngreen;\n",
       "            border-color:  white;\n",
       "        }    #T_9bffde76_9c2a_11ea_96dc_5c879c640c7frow24_col1 {\n",
       "            background-color:  black;\n",
       "            color:  lawngreen;\n",
       "            border-color:  white;\n",
       "        }    #T_9bffde76_9c2a_11ea_96dc_5c879c640c7frow24_col2 {\n",
       "            background-color:  black;\n",
       "            color:  lawngreen;\n",
       "            border-color:  white;\n",
       "        }    #T_9bffde76_9c2a_11ea_96dc_5c879c640c7frow24_col3 {\n",
       "            background-color:  black;\n",
       "            color:  lawngreen;\n",
       "            border-color:  white;\n",
       "        }    #T_9bffde76_9c2a_11ea_96dc_5c879c640c7frow24_col4 {\n",
       "            background-color:  black;\n",
       "            color:  lawngreen;\n",
       "            border-color:  white;\n",
       "        }    #T_9bffde76_9c2a_11ea_96dc_5c879c640c7frow24_col5 {\n",
       "            background-color:  black;\n",
       "            color:  lawngreen;\n",
       "            border-color:  white;\n",
       "        }    #T_9bffde76_9c2a_11ea_96dc_5c879c640c7frow24_col6 {\n",
       "            background-color:  black;\n",
       "            color:  lawngreen;\n",
       "            border-color:  white;\n",
       "        }    #T_9bffde76_9c2a_11ea_96dc_5c879c640c7frow25_col0 {\n",
       "            background-color:  black;\n",
       "            color:  lawngreen;\n",
       "            border-color:  white;\n",
       "        }    #T_9bffde76_9c2a_11ea_96dc_5c879c640c7frow25_col1 {\n",
       "            background-color:  black;\n",
       "            color:  lawngreen;\n",
       "            border-color:  white;\n",
       "        }    #T_9bffde76_9c2a_11ea_96dc_5c879c640c7frow25_col2 {\n",
       "            background-color:  black;\n",
       "            color:  lawngreen;\n",
       "            border-color:  white;\n",
       "        }    #T_9bffde76_9c2a_11ea_96dc_5c879c640c7frow25_col3 {\n",
       "            background-color:  black;\n",
       "            color:  lawngreen;\n",
       "            border-color:  white;\n",
       "        }    #T_9bffde76_9c2a_11ea_96dc_5c879c640c7frow25_col4 {\n",
       "            background-color:  black;\n",
       "            color:  lawngreen;\n",
       "            border-color:  white;\n",
       "        }    #T_9bffde76_9c2a_11ea_96dc_5c879c640c7frow25_col5 {\n",
       "            background-color:  black;\n",
       "            color:  lawngreen;\n",
       "            border-color:  white;\n",
       "        }    #T_9bffde76_9c2a_11ea_96dc_5c879c640c7frow25_col6 {\n",
       "            background-color:  black;\n",
       "            color:  lawngreen;\n",
       "            border-color:  white;\n",
       "        }    #T_9bffde76_9c2a_11ea_96dc_5c879c640c7frow26_col0 {\n",
       "            background-color:  black;\n",
       "            color:  lawngreen;\n",
       "            border-color:  white;\n",
       "        }    #T_9bffde76_9c2a_11ea_96dc_5c879c640c7frow26_col1 {\n",
       "            background-color:  black;\n",
       "            color:  lawngreen;\n",
       "            border-color:  white;\n",
       "        }    #T_9bffde76_9c2a_11ea_96dc_5c879c640c7frow26_col2 {\n",
       "            background-color:  black;\n",
       "            color:  lawngreen;\n",
       "            border-color:  white;\n",
       "        }    #T_9bffde76_9c2a_11ea_96dc_5c879c640c7frow26_col3 {\n",
       "            background-color:  black;\n",
       "            color:  lawngreen;\n",
       "            border-color:  white;\n",
       "        }    #T_9bffde76_9c2a_11ea_96dc_5c879c640c7frow26_col4 {\n",
       "            background-color:  black;\n",
       "            color:  lawngreen;\n",
       "            border-color:  white;\n",
       "        }    #T_9bffde76_9c2a_11ea_96dc_5c879c640c7frow26_col5 {\n",
       "            background-color:  black;\n",
       "            color:  lawngreen;\n",
       "            border-color:  white;\n",
       "        }    #T_9bffde76_9c2a_11ea_96dc_5c879c640c7frow26_col6 {\n",
       "            background-color:  black;\n",
       "            color:  lawngreen;\n",
       "            border-color:  white;\n",
       "        }    #T_9bffde76_9c2a_11ea_96dc_5c879c640c7frow27_col0 {\n",
       "            background-color:  black;\n",
       "            color:  lawngreen;\n",
       "            border-color:  white;\n",
       "        }    #T_9bffde76_9c2a_11ea_96dc_5c879c640c7frow27_col1 {\n",
       "            background-color:  black;\n",
       "            color:  lawngreen;\n",
       "            border-color:  white;\n",
       "        }    #T_9bffde76_9c2a_11ea_96dc_5c879c640c7frow27_col2 {\n",
       "            background-color:  black;\n",
       "            color:  lawngreen;\n",
       "            border-color:  white;\n",
       "        }    #T_9bffde76_9c2a_11ea_96dc_5c879c640c7frow27_col3 {\n",
       "            background-color:  black;\n",
       "            color:  lawngreen;\n",
       "            border-color:  white;\n",
       "        }    #T_9bffde76_9c2a_11ea_96dc_5c879c640c7frow27_col4 {\n",
       "            background-color:  black;\n",
       "            color:  lawngreen;\n",
       "            border-color:  white;\n",
       "        }    #T_9bffde76_9c2a_11ea_96dc_5c879c640c7frow27_col5 {\n",
       "            background-color:  black;\n",
       "            color:  lawngreen;\n",
       "            border-color:  white;\n",
       "        }    #T_9bffde76_9c2a_11ea_96dc_5c879c640c7frow27_col6 {\n",
       "            background-color:  black;\n",
       "            color:  lawngreen;\n",
       "            border-color:  white;\n",
       "        }    #T_9bffde76_9c2a_11ea_96dc_5c879c640c7frow28_col0 {\n",
       "            background-color:  black;\n",
       "            color:  lawngreen;\n",
       "            border-color:  white;\n",
       "        }    #T_9bffde76_9c2a_11ea_96dc_5c879c640c7frow28_col1 {\n",
       "            background-color:  black;\n",
       "            color:  lawngreen;\n",
       "            border-color:  white;\n",
       "        }    #T_9bffde76_9c2a_11ea_96dc_5c879c640c7frow28_col2 {\n",
       "            background-color:  black;\n",
       "            color:  lawngreen;\n",
       "            border-color:  white;\n",
       "        }    #T_9bffde76_9c2a_11ea_96dc_5c879c640c7frow28_col3 {\n",
       "            background-color:  black;\n",
       "            color:  lawngreen;\n",
       "            border-color:  white;\n",
       "        }    #T_9bffde76_9c2a_11ea_96dc_5c879c640c7frow28_col4 {\n",
       "            background-color:  black;\n",
       "            color:  lawngreen;\n",
       "            border-color:  white;\n",
       "        }    #T_9bffde76_9c2a_11ea_96dc_5c879c640c7frow28_col5 {\n",
       "            background-color:  black;\n",
       "            color:  lawngreen;\n",
       "            border-color:  white;\n",
       "        }    #T_9bffde76_9c2a_11ea_96dc_5c879c640c7frow28_col6 {\n",
       "            background-color:  black;\n",
       "            color:  lawngreen;\n",
       "            border-color:  white;\n",
       "        }    #T_9bffde76_9c2a_11ea_96dc_5c879c640c7frow29_col0 {\n",
       "            background-color:  black;\n",
       "            color:  lawngreen;\n",
       "            border-color:  white;\n",
       "        }    #T_9bffde76_9c2a_11ea_96dc_5c879c640c7frow29_col1 {\n",
       "            background-color:  black;\n",
       "            color:  lawngreen;\n",
       "            border-color:  white;\n",
       "        }    #T_9bffde76_9c2a_11ea_96dc_5c879c640c7frow29_col2 {\n",
       "            background-color:  black;\n",
       "            color:  lawngreen;\n",
       "            border-color:  white;\n",
       "        }    #T_9bffde76_9c2a_11ea_96dc_5c879c640c7frow29_col3 {\n",
       "            background-color:  black;\n",
       "            color:  lawngreen;\n",
       "            border-color:  white;\n",
       "        }    #T_9bffde76_9c2a_11ea_96dc_5c879c640c7frow29_col4 {\n",
       "            background-color:  black;\n",
       "            color:  lawngreen;\n",
       "            border-color:  white;\n",
       "        }    #T_9bffde76_9c2a_11ea_96dc_5c879c640c7frow29_col5 {\n",
       "            background-color:  black;\n",
       "            color:  lawngreen;\n",
       "            border-color:  white;\n",
       "        }    #T_9bffde76_9c2a_11ea_96dc_5c879c640c7frow29_col6 {\n",
       "            background-color:  black;\n",
       "            color:  lawngreen;\n",
       "            border-color:  white;\n",
       "        }    #T_9bffde76_9c2a_11ea_96dc_5c879c640c7frow30_col0 {\n",
       "            background-color:  black;\n",
       "            color:  lawngreen;\n",
       "            border-color:  white;\n",
       "        }    #T_9bffde76_9c2a_11ea_96dc_5c879c640c7frow30_col1 {\n",
       "            background-color:  black;\n",
       "            color:  lawngreen;\n",
       "            border-color:  white;\n",
       "        }    #T_9bffde76_9c2a_11ea_96dc_5c879c640c7frow30_col2 {\n",
       "            background-color:  black;\n",
       "            color:  lawngreen;\n",
       "            border-color:  white;\n",
       "        }    #T_9bffde76_9c2a_11ea_96dc_5c879c640c7frow30_col3 {\n",
       "            background-color:  black;\n",
       "            color:  lawngreen;\n",
       "            border-color:  white;\n",
       "        }    #T_9bffde76_9c2a_11ea_96dc_5c879c640c7frow30_col4 {\n",
       "            background-color:  black;\n",
       "            color:  lawngreen;\n",
       "            border-color:  white;\n",
       "        }    #T_9bffde76_9c2a_11ea_96dc_5c879c640c7frow30_col5 {\n",
       "            background-color:  black;\n",
       "            color:  lawngreen;\n",
       "            border-color:  white;\n",
       "        }    #T_9bffde76_9c2a_11ea_96dc_5c879c640c7frow30_col6 {\n",
       "            background-color:  black;\n",
       "            color:  lawngreen;\n",
       "            border-color:  white;\n",
       "        }    #T_9bffde76_9c2a_11ea_96dc_5c879c640c7frow31_col0 {\n",
       "            background-color:  black;\n",
       "            color:  lawngreen;\n",
       "            border-color:  white;\n",
       "        }    #T_9bffde76_9c2a_11ea_96dc_5c879c640c7frow31_col1 {\n",
       "            background-color:  black;\n",
       "            color:  lawngreen;\n",
       "            border-color:  white;\n",
       "        }    #T_9bffde76_9c2a_11ea_96dc_5c879c640c7frow31_col2 {\n",
       "            background-color:  black;\n",
       "            color:  lawngreen;\n",
       "            border-color:  white;\n",
       "        }    #T_9bffde76_9c2a_11ea_96dc_5c879c640c7frow31_col3 {\n",
       "            background-color:  black;\n",
       "            color:  lawngreen;\n",
       "            border-color:  white;\n",
       "        }    #T_9bffde76_9c2a_11ea_96dc_5c879c640c7frow31_col4 {\n",
       "            background-color:  black;\n",
       "            color:  lawngreen;\n",
       "            border-color:  white;\n",
       "        }    #T_9bffde76_9c2a_11ea_96dc_5c879c640c7frow31_col5 {\n",
       "            background-color:  black;\n",
       "            color:  lawngreen;\n",
       "            border-color:  white;\n",
       "        }    #T_9bffde76_9c2a_11ea_96dc_5c879c640c7frow31_col6 {\n",
       "            background-color:  black;\n",
       "            color:  lawngreen;\n",
       "            border-color:  white;\n",
       "        }    #T_9bffde76_9c2a_11ea_96dc_5c879c640c7frow32_col0 {\n",
       "            background-color:  black;\n",
       "            color:  lawngreen;\n",
       "            border-color:  white;\n",
       "        }    #T_9bffde76_9c2a_11ea_96dc_5c879c640c7frow32_col1 {\n",
       "            background-color:  black;\n",
       "            color:  lawngreen;\n",
       "            border-color:  white;\n",
       "        }    #T_9bffde76_9c2a_11ea_96dc_5c879c640c7frow32_col2 {\n",
       "            background-color:  black;\n",
       "            color:  lawngreen;\n",
       "            border-color:  white;\n",
       "        }    #T_9bffde76_9c2a_11ea_96dc_5c879c640c7frow32_col3 {\n",
       "            background-color:  black;\n",
       "            color:  lawngreen;\n",
       "            border-color:  white;\n",
       "        }    #T_9bffde76_9c2a_11ea_96dc_5c879c640c7frow32_col4 {\n",
       "            background-color:  black;\n",
       "            color:  lawngreen;\n",
       "            border-color:  white;\n",
       "        }    #T_9bffde76_9c2a_11ea_96dc_5c879c640c7frow32_col5 {\n",
       "            background-color:  black;\n",
       "            color:  lawngreen;\n",
       "            border-color:  white;\n",
       "        }    #T_9bffde76_9c2a_11ea_96dc_5c879c640c7frow32_col6 {\n",
       "            background-color:  black;\n",
       "            color:  lawngreen;\n",
       "            border-color:  white;\n",
       "        }</style><table id=\"T_9bffde76_9c2a_11ea_96dc_5c879c640c7f\" ><thead>    <tr>        <th class=\"blank level0\" ></th>        <th class=\"col_heading level0 col0\" >Sr.No</th>        <th class=\"col_heading level0 col1\" >States/UT</th>        <th class=\"col_heading level0 col2\" >Confirmed</th>        <th class=\"col_heading level0 col3\" >Recovered</th>        <th class=\"col_heading level0 col4\" >Deceased</th>        <th class=\"col_heading level0 col5\" >lat</th>        <th class=\"col_heading level0 col6\" >lon</th>    </tr></thead><tbody>\n",
       "                <tr>\n",
       "                        <th id=\"T_9bffde76_9c2a_11ea_96dc_5c879c640c7flevel0_row0\" class=\"row_heading level0 row0\" >0</th>\n",
       "                        <td id=\"T_9bffde76_9c2a_11ea_96dc_5c879c640c7frow0_col0\" class=\"data row0 col0\" >1</td>\n",
       "                        <td id=\"T_9bffde76_9c2a_11ea_96dc_5c879c640c7frow0_col1\" class=\"data row0 col1\" >Andaman and Nicobar Islands</td>\n",
       "                        <td id=\"T_9bffde76_9c2a_11ea_96dc_5c879c640c7frow0_col2\" class=\"data row0 col2\" >33</td>\n",
       "                        <td id=\"T_9bffde76_9c2a_11ea_96dc_5c879c640c7frow0_col3\" class=\"data row0 col3\" >33</td>\n",
       "                        <td id=\"T_9bffde76_9c2a_11ea_96dc_5c879c640c7frow0_col4\" class=\"data row0 col4\" >0</td>\n",
       "                        <td id=\"T_9bffde76_9c2a_11ea_96dc_5c879c640c7frow0_col5\" class=\"data row0 col5\" >11.740100</td>\n",
       "                        <td id=\"T_9bffde76_9c2a_11ea_96dc_5c879c640c7frow0_col6\" class=\"data row0 col6\" >92.658600</td>\n",
       "            </tr>\n",
       "            <tr>\n",
       "                        <th id=\"T_9bffde76_9c2a_11ea_96dc_5c879c640c7flevel0_row1\" class=\"row_heading level0 row1\" >1</th>\n",
       "                        <td id=\"T_9bffde76_9c2a_11ea_96dc_5c879c640c7frow1_col0\" class=\"data row1 col0\" >2</td>\n",
       "                        <td id=\"T_9bffde76_9c2a_11ea_96dc_5c879c640c7frow1_col1\" class=\"data row1 col1\" >Andhra Pradesh</td>\n",
       "                        <td id=\"T_9bffde76_9c2a_11ea_96dc_5c879c640c7frow1_col2\" class=\"data row1 col2\" >2647</td>\n",
       "                        <td id=\"T_9bffde76_9c2a_11ea_96dc_5c879c640c7frow1_col3\" class=\"data row1 col3\" >1709</td>\n",
       "                        <td id=\"T_9bffde76_9c2a_11ea_96dc_5c879c640c7frow1_col4\" class=\"data row1 col4\" >53</td>\n",
       "                        <td id=\"T_9bffde76_9c2a_11ea_96dc_5c879c640c7frow1_col5\" class=\"data row1 col5\" >15.912900</td>\n",
       "                        <td id=\"T_9bffde76_9c2a_11ea_96dc_5c879c640c7frow1_col6\" class=\"data row1 col6\" >79.740000</td>\n",
       "            </tr>\n",
       "            <tr>\n",
       "                        <th id=\"T_9bffde76_9c2a_11ea_96dc_5c879c640c7flevel0_row2\" class=\"row_heading level0 row2\" >2</th>\n",
       "                        <td id=\"T_9bffde76_9c2a_11ea_96dc_5c879c640c7frow2_col0\" class=\"data row2 col0\" >3</td>\n",
       "                        <td id=\"T_9bffde76_9c2a_11ea_96dc_5c879c640c7frow2_col1\" class=\"data row2 col1\" >Arunachal Pradesh</td>\n",
       "                        <td id=\"T_9bffde76_9c2a_11ea_96dc_5c879c640c7frow2_col2\" class=\"data row2 col2\" >1</td>\n",
       "                        <td id=\"T_9bffde76_9c2a_11ea_96dc_5c879c640c7frow2_col3\" class=\"data row2 col3\" >1</td>\n",
       "                        <td id=\"T_9bffde76_9c2a_11ea_96dc_5c879c640c7frow2_col4\" class=\"data row2 col4\" >0</td>\n",
       "                        <td id=\"T_9bffde76_9c2a_11ea_96dc_5c879c640c7frow2_col5\" class=\"data row2 col5\" >28.218000</td>\n",
       "                        <td id=\"T_9bffde76_9c2a_11ea_96dc_5c879c640c7frow2_col6\" class=\"data row2 col6\" >94.727800</td>\n",
       "            </tr>\n",
       "            <tr>\n",
       "                        <th id=\"T_9bffde76_9c2a_11ea_96dc_5c879c640c7flevel0_row3\" class=\"row_heading level0 row3\" >3</th>\n",
       "                        <td id=\"T_9bffde76_9c2a_11ea_96dc_5c879c640c7frow3_col0\" class=\"data row3 col0\" >4</td>\n",
       "                        <td id=\"T_9bffde76_9c2a_11ea_96dc_5c879c640c7frow3_col1\" class=\"data row3 col1\" >Assam</td>\n",
       "                        <td id=\"T_9bffde76_9c2a_11ea_96dc_5c879c640c7frow3_col2\" class=\"data row3 col2\" >203</td>\n",
       "                        <td id=\"T_9bffde76_9c2a_11ea_96dc_5c879c640c7frow3_col3\" class=\"data row3 col3\" >54</td>\n",
       "                        <td id=\"T_9bffde76_9c2a_11ea_96dc_5c879c640c7frow3_col4\" class=\"data row3 col4\" >4</td>\n",
       "                        <td id=\"T_9bffde76_9c2a_11ea_96dc_5c879c640c7frow3_col5\" class=\"data row3 col5\" >26.244156</td>\n",
       "                        <td id=\"T_9bffde76_9c2a_11ea_96dc_5c879c640c7frow3_col6\" class=\"data row3 col6\" >92.537842</td>\n",
       "            </tr>\n",
       "            <tr>\n",
       "                        <th id=\"T_9bffde76_9c2a_11ea_96dc_5c879c640c7flevel0_row4\" class=\"row_heading level0 row4\" >4</th>\n",
       "                        <td id=\"T_9bffde76_9c2a_11ea_96dc_5c879c640c7frow4_col0\" class=\"data row4 col0\" >5</td>\n",
       "                        <td id=\"T_9bffde76_9c2a_11ea_96dc_5c879c640c7frow4_col1\" class=\"data row4 col1\" >Bihar</td>\n",
       "                        <td id=\"T_9bffde76_9c2a_11ea_96dc_5c879c640c7frow4_col2\" class=\"data row4 col2\" >1982</td>\n",
       "                        <td id=\"T_9bffde76_9c2a_11ea_96dc_5c879c640c7frow4_col3\" class=\"data row4 col3\" >593</td>\n",
       "                        <td id=\"T_9bffde76_9c2a_11ea_96dc_5c879c640c7frow4_col4\" class=\"data row4 col4\" >11</td>\n",
       "                        <td id=\"T_9bffde76_9c2a_11ea_96dc_5c879c640c7frow4_col5\" class=\"data row4 col5\" >25.096100</td>\n",
       "                        <td id=\"T_9bffde76_9c2a_11ea_96dc_5c879c640c7frow4_col6\" class=\"data row4 col6\" >85.313100</td>\n",
       "            </tr>\n",
       "            <tr>\n",
       "                        <th id=\"T_9bffde76_9c2a_11ea_96dc_5c879c640c7flevel0_row5\" class=\"row_heading level0 row5\" >5</th>\n",
       "                        <td id=\"T_9bffde76_9c2a_11ea_96dc_5c879c640c7frow5_col0\" class=\"data row5 col0\" >6</td>\n",
       "                        <td id=\"T_9bffde76_9c2a_11ea_96dc_5c879c640c7frow5_col1\" class=\"data row5 col1\" >Chandigarh</td>\n",
       "                        <td id=\"T_9bffde76_9c2a_11ea_96dc_5c879c640c7frow5_col2\" class=\"data row5 col2\" >217</td>\n",
       "                        <td id=\"T_9bffde76_9c2a_11ea_96dc_5c879c640c7frow5_col3\" class=\"data row5 col3\" >139</td>\n",
       "                        <td id=\"T_9bffde76_9c2a_11ea_96dc_5c879c640c7frow5_col4\" class=\"data row5 col4\" >3</td>\n",
       "                        <td id=\"T_9bffde76_9c2a_11ea_96dc_5c879c640c7frow5_col5\" class=\"data row5 col5\" >30.733300</td>\n",
       "                        <td id=\"T_9bffde76_9c2a_11ea_96dc_5c879c640c7frow5_col6\" class=\"data row5 col6\" >76.779400</td>\n",
       "            </tr>\n",
       "            <tr>\n",
       "                        <th id=\"T_9bffde76_9c2a_11ea_96dc_5c879c640c7flevel0_row6\" class=\"row_heading level0 row6\" >6</th>\n",
       "                        <td id=\"T_9bffde76_9c2a_11ea_96dc_5c879c640c7frow6_col0\" class=\"data row6 col0\" >7</td>\n",
       "                        <td id=\"T_9bffde76_9c2a_11ea_96dc_5c879c640c7frow6_col1\" class=\"data row6 col1\" >Chhattisgarh</td>\n",
       "                        <td id=\"T_9bffde76_9c2a_11ea_96dc_5c879c640c7frow6_col2\" class=\"data row6 col2\" >128</td>\n",
       "                        <td id=\"T_9bffde76_9c2a_11ea_96dc_5c879c640c7frow6_col3\" class=\"data row6 col3\" >59</td>\n",
       "                        <td id=\"T_9bffde76_9c2a_11ea_96dc_5c879c640c7frow6_col4\" class=\"data row6 col4\" >0</td>\n",
       "                        <td id=\"T_9bffde76_9c2a_11ea_96dc_5c879c640c7frow6_col5\" class=\"data row6 col5\" >21.295132</td>\n",
       "                        <td id=\"T_9bffde76_9c2a_11ea_96dc_5c879c640c7frow6_col6\" class=\"data row6 col6\" >81.828232</td>\n",
       "            </tr>\n",
       "            <tr>\n",
       "                        <th id=\"T_9bffde76_9c2a_11ea_96dc_5c879c640c7flevel0_row7\" class=\"row_heading level0 row7\" >7</th>\n",
       "                        <td id=\"T_9bffde76_9c2a_11ea_96dc_5c879c640c7frow7_col0\" class=\"data row7 col0\" >8</td>\n",
       "                        <td id=\"T_9bffde76_9c2a_11ea_96dc_5c879c640c7frow7_col1\" class=\"data row7 col1\" >Dadar Nagar Haveli</td>\n",
       "                        <td id=\"T_9bffde76_9c2a_11ea_96dc_5c879c640c7frow7_col2\" class=\"data row7 col2\" >1</td>\n",
       "                        <td id=\"T_9bffde76_9c2a_11ea_96dc_5c879c640c7frow7_col3\" class=\"data row7 col3\" >0</td>\n",
       "                        <td id=\"T_9bffde76_9c2a_11ea_96dc_5c879c640c7frow7_col4\" class=\"data row7 col4\" >0</td>\n",
       "                        <td id=\"T_9bffde76_9c2a_11ea_96dc_5c879c640c7frow7_col5\" class=\"data row7 col5\" >20.180900</td>\n",
       "                        <td id=\"T_9bffde76_9c2a_11ea_96dc_5c879c640c7frow7_col6\" class=\"data row7 col6\" >73.016900</td>\n",
       "            </tr>\n",
       "            <tr>\n",
       "                        <th id=\"T_9bffde76_9c2a_11ea_96dc_5c879c640c7flevel0_row8\" class=\"row_heading level0 row8\" >8</th>\n",
       "                        <td id=\"T_9bffde76_9c2a_11ea_96dc_5c879c640c7frow8_col0\" class=\"data row8 col0\" >9</td>\n",
       "                        <td id=\"T_9bffde76_9c2a_11ea_96dc_5c879c640c7frow8_col1\" class=\"data row8 col1\" >Delhi</td>\n",
       "                        <td id=\"T_9bffde76_9c2a_11ea_96dc_5c879c640c7frow8_col2\" class=\"data row8 col2\" >11659</td>\n",
       "                        <td id=\"T_9bffde76_9c2a_11ea_96dc_5c879c640c7frow8_col3\" class=\"data row8 col3\" >5567</td>\n",
       "                        <td id=\"T_9bffde76_9c2a_11ea_96dc_5c879c640c7frow8_col4\" class=\"data row8 col4\" >194</td>\n",
       "                        <td id=\"T_9bffde76_9c2a_11ea_96dc_5c879c640c7frow8_col5\" class=\"data row8 col5\" >28.704100</td>\n",
       "                        <td id=\"T_9bffde76_9c2a_11ea_96dc_5c879c640c7frow8_col6\" class=\"data row8 col6\" >77.102500</td>\n",
       "            </tr>\n",
       "            <tr>\n",
       "                        <th id=\"T_9bffde76_9c2a_11ea_96dc_5c879c640c7flevel0_row9\" class=\"row_heading level0 row9\" >9</th>\n",
       "                        <td id=\"T_9bffde76_9c2a_11ea_96dc_5c879c640c7frow9_col0\" class=\"data row9 col0\" >10</td>\n",
       "                        <td id=\"T_9bffde76_9c2a_11ea_96dc_5c879c640c7frow9_col1\" class=\"data row9 col1\" >Goa</td>\n",
       "                        <td id=\"T_9bffde76_9c2a_11ea_96dc_5c879c640c7frow9_col2\" class=\"data row9 col2\" >52</td>\n",
       "                        <td id=\"T_9bffde76_9c2a_11ea_96dc_5c879c640c7frow9_col3\" class=\"data row9 col3\" >7</td>\n",
       "                        <td id=\"T_9bffde76_9c2a_11ea_96dc_5c879c640c7frow9_col4\" class=\"data row9 col4\" >0</td>\n",
       "                        <td id=\"T_9bffde76_9c2a_11ea_96dc_5c879c640c7frow9_col5\" class=\"data row9 col5\" >15.299300</td>\n",
       "                        <td id=\"T_9bffde76_9c2a_11ea_96dc_5c879c640c7frow9_col6\" class=\"data row9 col6\" >74.124000</td>\n",
       "            </tr>\n",
       "            <tr>\n",
       "                        <th id=\"T_9bffde76_9c2a_11ea_96dc_5c879c640c7flevel0_row10\" class=\"row_heading level0 row10\" >10</th>\n",
       "                        <td id=\"T_9bffde76_9c2a_11ea_96dc_5c879c640c7frow10_col0\" class=\"data row10 col0\" >11</td>\n",
       "                        <td id=\"T_9bffde76_9c2a_11ea_96dc_5c879c640c7frow10_col1\" class=\"data row10 col1\" >Gujarat</td>\n",
       "                        <td id=\"T_9bffde76_9c2a_11ea_96dc_5c879c640c7frow10_col2\" class=\"data row10 col2\" >12905</td>\n",
       "                        <td id=\"T_9bffde76_9c2a_11ea_96dc_5c879c640c7frow10_col3\" class=\"data row10 col3\" >5488</td>\n",
       "                        <td id=\"T_9bffde76_9c2a_11ea_96dc_5c879c640c7frow10_col4\" class=\"data row10 col4\" >773</td>\n",
       "                        <td id=\"T_9bffde76_9c2a_11ea_96dc_5c879c640c7frow10_col5\" class=\"data row10 col5\" >22.309425</td>\n",
       "                        <td id=\"T_9bffde76_9c2a_11ea_96dc_5c879c640c7frow10_col6\" class=\"data row10 col6\" >72.136230</td>\n",
       "            </tr>\n",
       "            <tr>\n",
       "                        <th id=\"T_9bffde76_9c2a_11ea_96dc_5c879c640c7flevel0_row11\" class=\"row_heading level0 row11\" >11</th>\n",
       "                        <td id=\"T_9bffde76_9c2a_11ea_96dc_5c879c640c7frow11_col0\" class=\"data row11 col0\" >12</td>\n",
       "                        <td id=\"T_9bffde76_9c2a_11ea_96dc_5c879c640c7frow11_col1\" class=\"data row11 col1\" >Haryana</td>\n",
       "                        <td id=\"T_9bffde76_9c2a_11ea_96dc_5c879c640c7frow11_col2\" class=\"data row11 col2\" >1031</td>\n",
       "                        <td id=\"T_9bffde76_9c2a_11ea_96dc_5c879c640c7frow11_col3\" class=\"data row11 col3\" >681</td>\n",
       "                        <td id=\"T_9bffde76_9c2a_11ea_96dc_5c879c640c7frow11_col4\" class=\"data row11 col4\" >15</td>\n",
       "                        <td id=\"T_9bffde76_9c2a_11ea_96dc_5c879c640c7frow11_col5\" class=\"data row11 col5\" >29.065773</td>\n",
       "                        <td id=\"T_9bffde76_9c2a_11ea_96dc_5c879c640c7frow11_col6\" class=\"data row11 col6\" >76.040497</td>\n",
       "            </tr>\n",
       "            <tr>\n",
       "                        <th id=\"T_9bffde76_9c2a_11ea_96dc_5c879c640c7flevel0_row12\" class=\"row_heading level0 row12\" >12</th>\n",
       "                        <td id=\"T_9bffde76_9c2a_11ea_96dc_5c879c640c7frow12_col0\" class=\"data row12 col0\" >13</td>\n",
       "                        <td id=\"T_9bffde76_9c2a_11ea_96dc_5c879c640c7frow12_col1\" class=\"data row12 col1\" >Himachal Pradesh</td>\n",
       "                        <td id=\"T_9bffde76_9c2a_11ea_96dc_5c879c640c7frow12_col2\" class=\"data row12 col2\" >152</td>\n",
       "                        <td id=\"T_9bffde76_9c2a_11ea_96dc_5c879c640c7frow12_col3\" class=\"data row12 col3\" >59</td>\n",
       "                        <td id=\"T_9bffde76_9c2a_11ea_96dc_5c879c640c7frow12_col4\" class=\"data row12 col4\" >3</td>\n",
       "                        <td id=\"T_9bffde76_9c2a_11ea_96dc_5c879c640c7frow12_col5\" class=\"data row12 col5\" >32.084206</td>\n",
       "                        <td id=\"T_9bffde76_9c2a_11ea_96dc_5c879c640c7frow12_col6\" class=\"data row12 col6\" >77.571167</td>\n",
       "            </tr>\n",
       "            <tr>\n",
       "                        <th id=\"T_9bffde76_9c2a_11ea_96dc_5c879c640c7flevel0_row13\" class=\"row_heading level0 row13\" >13</th>\n",
       "                        <td id=\"T_9bffde76_9c2a_11ea_96dc_5c879c640c7frow13_col0\" class=\"data row13 col0\" >14</td>\n",
       "                        <td id=\"T_9bffde76_9c2a_11ea_96dc_5c879c640c7frow13_col1\" class=\"data row13 col1\" >Jammu and Kashmir</td>\n",
       "                        <td id=\"T_9bffde76_9c2a_11ea_96dc_5c879c640c7frow13_col2\" class=\"data row13 col2\" >1449</td>\n",
       "                        <td id=\"T_9bffde76_9c2a_11ea_96dc_5c879c640c7frow13_col3\" class=\"data row13 col3\" >684</td>\n",
       "                        <td id=\"T_9bffde76_9c2a_11ea_96dc_5c879c640c7frow13_col4\" class=\"data row13 col4\" >20</td>\n",
       "                        <td id=\"T_9bffde76_9c2a_11ea_96dc_5c879c640c7frow13_col5\" class=\"data row13 col5\" >33.778200</td>\n",
       "                        <td id=\"T_9bffde76_9c2a_11ea_96dc_5c879c640c7frow13_col6\" class=\"data row13 col6\" >76.576200</td>\n",
       "            </tr>\n",
       "            <tr>\n",
       "                        <th id=\"T_9bffde76_9c2a_11ea_96dc_5c879c640c7flevel0_row14\" class=\"row_heading level0 row14\" >14</th>\n",
       "                        <td id=\"T_9bffde76_9c2a_11ea_96dc_5c879c640c7frow14_col0\" class=\"data row14 col0\" >15</td>\n",
       "                        <td id=\"T_9bffde76_9c2a_11ea_96dc_5c879c640c7frow14_col1\" class=\"data row14 col1\" >Jharkhand</td>\n",
       "                        <td id=\"T_9bffde76_9c2a_11ea_96dc_5c879c640c7frow14_col2\" class=\"data row14 col2\" >290</td>\n",
       "                        <td id=\"T_9bffde76_9c2a_11ea_96dc_5c879c640c7frow14_col3\" class=\"data row14 col3\" >129</td>\n",
       "                        <td id=\"T_9bffde76_9c2a_11ea_96dc_5c879c640c7frow14_col4\" class=\"data row14 col4\" >3</td>\n",
       "                        <td id=\"T_9bffde76_9c2a_11ea_96dc_5c879c640c7frow14_col5\" class=\"data row14 col5\" >23.610200</td>\n",
       "                        <td id=\"T_9bffde76_9c2a_11ea_96dc_5c879c640c7frow14_col6\" class=\"data row14 col6\" >85.279900</td>\n",
       "            </tr>\n",
       "            <tr>\n",
       "                        <th id=\"T_9bffde76_9c2a_11ea_96dc_5c879c640c7flevel0_row15\" class=\"row_heading level0 row15\" >15</th>\n",
       "                        <td id=\"T_9bffde76_9c2a_11ea_96dc_5c879c640c7frow15_col0\" class=\"data row15 col0\" >16</td>\n",
       "                        <td id=\"T_9bffde76_9c2a_11ea_96dc_5c879c640c7frow15_col1\" class=\"data row15 col1\" >Karnataka</td>\n",
       "                        <td id=\"T_9bffde76_9c2a_11ea_96dc_5c879c640c7frow15_col2\" class=\"data row15 col2\" >1605</td>\n",
       "                        <td id=\"T_9bffde76_9c2a_11ea_96dc_5c879c640c7frow15_col3\" class=\"data row15 col3\" >571</td>\n",
       "                        <td id=\"T_9bffde76_9c2a_11ea_96dc_5c879c640c7frow15_col4\" class=\"data row15 col4\" >41</td>\n",
       "                        <td id=\"T_9bffde76_9c2a_11ea_96dc_5c879c640c7frow15_col5\" class=\"data row15 col5\" >15.317277</td>\n",
       "                        <td id=\"T_9bffde76_9c2a_11ea_96dc_5c879c640c7frow15_col6\" class=\"data row15 col6\" >75.713890</td>\n",
       "            </tr>\n",
       "            <tr>\n",
       "                        <th id=\"T_9bffde76_9c2a_11ea_96dc_5c879c640c7flevel0_row16\" class=\"row_heading level0 row16\" >16</th>\n",
       "                        <td id=\"T_9bffde76_9c2a_11ea_96dc_5c879c640c7frow16_col0\" class=\"data row16 col0\" >17</td>\n",
       "                        <td id=\"T_9bffde76_9c2a_11ea_96dc_5c879c640c7frow16_col1\" class=\"data row16 col1\" >Kerala</td>\n",
       "                        <td id=\"T_9bffde76_9c2a_11ea_96dc_5c879c640c7frow16_col2\" class=\"data row16 col2\" >690</td>\n",
       "                        <td id=\"T_9bffde76_9c2a_11ea_96dc_5c879c640c7frow16_col3\" class=\"data row16 col3\" >510</td>\n",
       "                        <td id=\"T_9bffde76_9c2a_11ea_96dc_5c879c640c7frow16_col4\" class=\"data row16 col4\" >4</td>\n",
       "                        <td id=\"T_9bffde76_9c2a_11ea_96dc_5c879c640c7frow16_col5\" class=\"data row16 col5\" >10.850516</td>\n",
       "                        <td id=\"T_9bffde76_9c2a_11ea_96dc_5c879c640c7frow16_col6\" class=\"data row16 col6\" >76.271080</td>\n",
       "            </tr>\n",
       "            <tr>\n",
       "                        <th id=\"T_9bffde76_9c2a_11ea_96dc_5c879c640c7flevel0_row17\" class=\"row_heading level0 row17\" >17</th>\n",
       "                        <td id=\"T_9bffde76_9c2a_11ea_96dc_5c879c640c7frow17_col0\" class=\"data row17 col0\" >18</td>\n",
       "                        <td id=\"T_9bffde76_9c2a_11ea_96dc_5c879c640c7frow17_col1\" class=\"data row17 col1\" >Ladakh</td>\n",
       "                        <td id=\"T_9bffde76_9c2a_11ea_96dc_5c879c640c7frow17_col2\" class=\"data row17 col2\" >44</td>\n",
       "                        <td id=\"T_9bffde76_9c2a_11ea_96dc_5c879c640c7frow17_col3\" class=\"data row17 col3\" >43</td>\n",
       "                        <td id=\"T_9bffde76_9c2a_11ea_96dc_5c879c640c7frow17_col4\" class=\"data row17 col4\" >0</td>\n",
       "                        <td id=\"T_9bffde76_9c2a_11ea_96dc_5c879c640c7frow17_col5\" class=\"data row17 col5\" >34.209515</td>\n",
       "                        <td id=\"T_9bffde76_9c2a_11ea_96dc_5c879c640c7frow17_col6\" class=\"data row17 col6\" >77.615112</td>\n",
       "            </tr>\n",
       "            <tr>\n",
       "                        <th id=\"T_9bffde76_9c2a_11ea_96dc_5c879c640c7flevel0_row18\" class=\"row_heading level0 row18\" >18</th>\n",
       "                        <td id=\"T_9bffde76_9c2a_11ea_96dc_5c879c640c7frow18_col0\" class=\"data row18 col0\" >19</td>\n",
       "                        <td id=\"T_9bffde76_9c2a_11ea_96dc_5c879c640c7frow18_col1\" class=\"data row18 col1\" >Madhya Pradesh</td>\n",
       "                        <td id=\"T_9bffde76_9c2a_11ea_96dc_5c879c640c7frow18_col2\" class=\"data row18 col2\" >5981</td>\n",
       "                        <td id=\"T_9bffde76_9c2a_11ea_96dc_5c879c640c7frow18_col3\" class=\"data row18 col3\" >2843</td>\n",
       "                        <td id=\"T_9bffde76_9c2a_11ea_96dc_5c879c640c7frow18_col4\" class=\"data row18 col4\" >270</td>\n",
       "                        <td id=\"T_9bffde76_9c2a_11ea_96dc_5c879c640c7frow18_col5\" class=\"data row18 col5\" >23.473324</td>\n",
       "                        <td id=\"T_9bffde76_9c2a_11ea_96dc_5c879c640c7frow18_col6\" class=\"data row18 col6\" >77.947998</td>\n",
       "            </tr>\n",
       "            <tr>\n",
       "                        <th id=\"T_9bffde76_9c2a_11ea_96dc_5c879c640c7flevel0_row19\" class=\"row_heading level0 row19\" >19</th>\n",
       "                        <td id=\"T_9bffde76_9c2a_11ea_96dc_5c879c640c7frow19_col0\" class=\"data row19 col0\" >20</td>\n",
       "                        <td id=\"T_9bffde76_9c2a_11ea_96dc_5c879c640c7frow19_col1\" class=\"data row19 col1\" >Maharashtra</td>\n",
       "                        <td id=\"T_9bffde76_9c2a_11ea_96dc_5c879c640c7frow19_col2\" class=\"data row19 col2\" >41642</td>\n",
       "                        <td id=\"T_9bffde76_9c2a_11ea_96dc_5c879c640c7frow19_col3\" class=\"data row19 col3\" >11726</td>\n",
       "                        <td id=\"T_9bffde76_9c2a_11ea_96dc_5c879c640c7frow19_col4\" class=\"data row19 col4\" >1454</td>\n",
       "                        <td id=\"T_9bffde76_9c2a_11ea_96dc_5c879c640c7frow19_col5\" class=\"data row19 col5\" >19.663280</td>\n",
       "                        <td id=\"T_9bffde76_9c2a_11ea_96dc_5c879c640c7frow19_col6\" class=\"data row19 col6\" >75.300293</td>\n",
       "            </tr>\n",
       "            <tr>\n",
       "                        <th id=\"T_9bffde76_9c2a_11ea_96dc_5c879c640c7flevel0_row20\" class=\"row_heading level0 row20\" >20</th>\n",
       "                        <td id=\"T_9bffde76_9c2a_11ea_96dc_5c879c640c7frow20_col0\" class=\"data row20 col0\" >21</td>\n",
       "                        <td id=\"T_9bffde76_9c2a_11ea_96dc_5c879c640c7frow20_col1\" class=\"data row20 col1\" >Manipur</td>\n",
       "                        <td id=\"T_9bffde76_9c2a_11ea_96dc_5c879c640c7frow20_col2\" class=\"data row20 col2\" >25</td>\n",
       "                        <td id=\"T_9bffde76_9c2a_11ea_96dc_5c879c640c7frow20_col3\" class=\"data row20 col3\" >2</td>\n",
       "                        <td id=\"T_9bffde76_9c2a_11ea_96dc_5c879c640c7frow20_col4\" class=\"data row20 col4\" >0</td>\n",
       "                        <td id=\"T_9bffde76_9c2a_11ea_96dc_5c879c640c7frow20_col5\" class=\"data row20 col5\" >24.663700</td>\n",
       "                        <td id=\"T_9bffde76_9c2a_11ea_96dc_5c879c640c7frow20_col6\" class=\"data row20 col6\" >93.906300</td>\n",
       "            </tr>\n",
       "            <tr>\n",
       "                        <th id=\"T_9bffde76_9c2a_11ea_96dc_5c879c640c7flevel0_row21\" class=\"row_heading level0 row21\" >21</th>\n",
       "                        <td id=\"T_9bffde76_9c2a_11ea_96dc_5c879c640c7frow21_col0\" class=\"data row21 col0\" >22</td>\n",
       "                        <td id=\"T_9bffde76_9c2a_11ea_96dc_5c879c640c7frow21_col1\" class=\"data row21 col1\" >Meghalaya</td>\n",
       "                        <td id=\"T_9bffde76_9c2a_11ea_96dc_5c879c640c7frow21_col2\" class=\"data row21 col2\" >14</td>\n",
       "                        <td id=\"T_9bffde76_9c2a_11ea_96dc_5c879c640c7frow21_col3\" class=\"data row21 col3\" >12</td>\n",
       "                        <td id=\"T_9bffde76_9c2a_11ea_96dc_5c879c640c7frow21_col4\" class=\"data row21 col4\" >1</td>\n",
       "                        <td id=\"T_9bffde76_9c2a_11ea_96dc_5c879c640c7frow21_col5\" class=\"data row21 col5\" >25.467000</td>\n",
       "                        <td id=\"T_9bffde76_9c2a_11ea_96dc_5c879c640c7frow21_col6\" class=\"data row21 col6\" >91.366200</td>\n",
       "            </tr>\n",
       "            <tr>\n",
       "                        <th id=\"T_9bffde76_9c2a_11ea_96dc_5c879c640c7flevel0_row22\" class=\"row_heading level0 row22\" >22</th>\n",
       "                        <td id=\"T_9bffde76_9c2a_11ea_96dc_5c879c640c7frow22_col0\" class=\"data row22 col0\" >23</td>\n",
       "                        <td id=\"T_9bffde76_9c2a_11ea_96dc_5c879c640c7frow22_col1\" class=\"data row22 col1\" >Mizoram</td>\n",
       "                        <td id=\"T_9bffde76_9c2a_11ea_96dc_5c879c640c7frow22_col2\" class=\"data row22 col2\" >1</td>\n",
       "                        <td id=\"T_9bffde76_9c2a_11ea_96dc_5c879c640c7frow22_col3\" class=\"data row22 col3\" >1</td>\n",
       "                        <td id=\"T_9bffde76_9c2a_11ea_96dc_5c879c640c7frow22_col4\" class=\"data row22 col4\" >0</td>\n",
       "                        <td id=\"T_9bffde76_9c2a_11ea_96dc_5c879c640c7frow22_col5\" class=\"data row22 col5\" >23.164500</td>\n",
       "                        <td id=\"T_9bffde76_9c2a_11ea_96dc_5c879c640c7frow22_col6\" class=\"data row22 col6\" >92.937600</td>\n",
       "            </tr>\n",
       "            <tr>\n",
       "                        <th id=\"T_9bffde76_9c2a_11ea_96dc_5c879c640c7flevel0_row23\" class=\"row_heading level0 row23\" >23</th>\n",
       "                        <td id=\"T_9bffde76_9c2a_11ea_96dc_5c879c640c7frow23_col0\" class=\"data row23 col0\" >24</td>\n",
       "                        <td id=\"T_9bffde76_9c2a_11ea_96dc_5c879c640c7frow23_col1\" class=\"data row23 col1\" >Odisha</td>\n",
       "                        <td id=\"T_9bffde76_9c2a_11ea_96dc_5c879c640c7frow23_col2\" class=\"data row23 col2\" >1103</td>\n",
       "                        <td id=\"T_9bffde76_9c2a_11ea_96dc_5c879c640c7frow23_col3\" class=\"data row23 col3\" >393</td>\n",
       "                        <td id=\"T_9bffde76_9c2a_11ea_96dc_5c879c640c7frow23_col4\" class=\"data row23 col4\" >7</td>\n",
       "                        <td id=\"T_9bffde76_9c2a_11ea_96dc_5c879c640c7frow23_col5\" class=\"data row23 col5\" >20.940920</td>\n",
       "                        <td id=\"T_9bffde76_9c2a_11ea_96dc_5c879c640c7frow23_col6\" class=\"data row23 col6\" >84.803467</td>\n",
       "            </tr>\n",
       "            <tr>\n",
       "                        <th id=\"T_9bffde76_9c2a_11ea_96dc_5c879c640c7flevel0_row24\" class=\"row_heading level0 row24\" >24</th>\n",
       "                        <td id=\"T_9bffde76_9c2a_11ea_96dc_5c879c640c7frow24_col0\" class=\"data row24 col0\" >25</td>\n",
       "                        <td id=\"T_9bffde76_9c2a_11ea_96dc_5c879c640c7frow24_col1\" class=\"data row24 col1\" >Puducherry</td>\n",
       "                        <td id=\"T_9bffde76_9c2a_11ea_96dc_5c879c640c7frow24_col2\" class=\"data row24 col2\" >20</td>\n",
       "                        <td id=\"T_9bffde76_9c2a_11ea_96dc_5c879c640c7frow24_col3\" class=\"data row24 col3\" >10</td>\n",
       "                        <td id=\"T_9bffde76_9c2a_11ea_96dc_5c879c640c7frow24_col4\" class=\"data row24 col4\" >0</td>\n",
       "                        <td id=\"T_9bffde76_9c2a_11ea_96dc_5c879c640c7frow24_col5\" class=\"data row24 col5\" >11.941600</td>\n",
       "                        <td id=\"T_9bffde76_9c2a_11ea_96dc_5c879c640c7frow24_col6\" class=\"data row24 col6\" >79.808300</td>\n",
       "            </tr>\n",
       "            <tr>\n",
       "                        <th id=\"T_9bffde76_9c2a_11ea_96dc_5c879c640c7flevel0_row25\" class=\"row_heading level0 row25\" >25</th>\n",
       "                        <td id=\"T_9bffde76_9c2a_11ea_96dc_5c879c640c7frow25_col0\" class=\"data row25 col0\" >26</td>\n",
       "                        <td id=\"T_9bffde76_9c2a_11ea_96dc_5c879c640c7frow25_col1\" class=\"data row25 col1\" >Punjab</td>\n",
       "                        <td id=\"T_9bffde76_9c2a_11ea_96dc_5c879c640c7frow25_col2\" class=\"data row25 col2\" >2028</td>\n",
       "                        <td id=\"T_9bffde76_9c2a_11ea_96dc_5c879c640c7frow25_col3\" class=\"data row25 col3\" >1819</td>\n",
       "                        <td id=\"T_9bffde76_9c2a_11ea_96dc_5c879c640c7frow25_col4\" class=\"data row25 col4\" >39</td>\n",
       "                        <td id=\"T_9bffde76_9c2a_11ea_96dc_5c879c640c7frow25_col5\" class=\"data row25 col5\" >31.147100</td>\n",
       "                        <td id=\"T_9bffde76_9c2a_11ea_96dc_5c879c640c7frow25_col6\" class=\"data row25 col6\" >75.341200</td>\n",
       "            </tr>\n",
       "            <tr>\n",
       "                        <th id=\"T_9bffde76_9c2a_11ea_96dc_5c879c640c7flevel0_row26\" class=\"row_heading level0 row26\" >26</th>\n",
       "                        <td id=\"T_9bffde76_9c2a_11ea_96dc_5c879c640c7frow26_col0\" class=\"data row26 col0\" >27</td>\n",
       "                        <td id=\"T_9bffde76_9c2a_11ea_96dc_5c879c640c7frow26_col1\" class=\"data row26 col1\" >Rajasthan</td>\n",
       "                        <td id=\"T_9bffde76_9c2a_11ea_96dc_5c879c640c7frow26_col2\" class=\"data row26 col2\" >6227</td>\n",
       "                        <td id=\"T_9bffde76_9c2a_11ea_96dc_5c879c640c7frow26_col3\" class=\"data row26 col3\" >3485</td>\n",
       "                        <td id=\"T_9bffde76_9c2a_11ea_96dc_5c879c640c7frow26_col4\" class=\"data row26 col4\" >151</td>\n",
       "                        <td id=\"T_9bffde76_9c2a_11ea_96dc_5c879c640c7frow26_col5\" class=\"data row26 col5\" >27.023800</td>\n",
       "                        <td id=\"T_9bffde76_9c2a_11ea_96dc_5c879c640c7frow26_col6\" class=\"data row26 col6\" >74.217900</td>\n",
       "            </tr>\n",
       "            <tr>\n",
       "                        <th id=\"T_9bffde76_9c2a_11ea_96dc_5c879c640c7flevel0_row27\" class=\"row_heading level0 row27\" >27</th>\n",
       "                        <td id=\"T_9bffde76_9c2a_11ea_96dc_5c879c640c7frow27_col0\" class=\"data row27 col0\" >28</td>\n",
       "                        <td id=\"T_9bffde76_9c2a_11ea_96dc_5c879c640c7frow27_col1\" class=\"data row27 col1\" >Tamil Nadu</td>\n",
       "                        <td id=\"T_9bffde76_9c2a_11ea_96dc_5c879c640c7frow27_col2\" class=\"data row27 col2\" >13967</td>\n",
       "                        <td id=\"T_9bffde76_9c2a_11ea_96dc_5c879c640c7frow27_col3\" class=\"data row27 col3\" >6282</td>\n",
       "                        <td id=\"T_9bffde76_9c2a_11ea_96dc_5c879c640c7frow27_col4\" class=\"data row27 col4\" >94</td>\n",
       "                        <td id=\"T_9bffde76_9c2a_11ea_96dc_5c879c640c7frow27_col5\" class=\"data row27 col5\" >11.127100</td>\n",
       "                        <td id=\"T_9bffde76_9c2a_11ea_96dc_5c879c640c7frow27_col6\" class=\"data row27 col6\" >78.656900</td>\n",
       "            </tr>\n",
       "            <tr>\n",
       "                        <th id=\"T_9bffde76_9c2a_11ea_96dc_5c879c640c7flevel0_row28\" class=\"row_heading level0 row28\" >28</th>\n",
       "                        <td id=\"T_9bffde76_9c2a_11ea_96dc_5c879c640c7frow28_col0\" class=\"data row28 col0\" >29</td>\n",
       "                        <td id=\"T_9bffde76_9c2a_11ea_96dc_5c879c640c7frow28_col1\" class=\"data row28 col1\" >Telengana</td>\n",
       "                        <td id=\"T_9bffde76_9c2a_11ea_96dc_5c879c640c7frow28_col2\" class=\"data row28 col2\" >1699</td>\n",
       "                        <td id=\"T_9bffde76_9c2a_11ea_96dc_5c879c640c7frow28_col3\" class=\"data row28 col3\" >1035</td>\n",
       "                        <td id=\"T_9bffde76_9c2a_11ea_96dc_5c879c640c7frow28_col4\" class=\"data row28 col4\" >45</td>\n",
       "                        <td id=\"T_9bffde76_9c2a_11ea_96dc_5c879c640c7frow28_col5\" class=\"data row28 col5\" >18.112400</td>\n",
       "                        <td id=\"T_9bffde76_9c2a_11ea_96dc_5c879c640c7frow28_col6\" class=\"data row28 col6\" >79.019300</td>\n",
       "            </tr>\n",
       "            <tr>\n",
       "                        <th id=\"T_9bffde76_9c2a_11ea_96dc_5c879c640c7flevel0_row29\" class=\"row_heading level0 row29\" >29</th>\n",
       "                        <td id=\"T_9bffde76_9c2a_11ea_96dc_5c879c640c7frow29_col0\" class=\"data row29 col0\" >30</td>\n",
       "                        <td id=\"T_9bffde76_9c2a_11ea_96dc_5c879c640c7frow29_col1\" class=\"data row29 col1\" >Tripura</td>\n",
       "                        <td id=\"T_9bffde76_9c2a_11ea_96dc_5c879c640c7frow29_col2\" class=\"data row29 col2\" >173</td>\n",
       "                        <td id=\"T_9bffde76_9c2a_11ea_96dc_5c879c640c7frow29_col3\" class=\"data row29 col3\" >148</td>\n",
       "                        <td id=\"T_9bffde76_9c2a_11ea_96dc_5c879c640c7frow29_col4\" class=\"data row29 col4\" >0</td>\n",
       "                        <td id=\"T_9bffde76_9c2a_11ea_96dc_5c879c640c7frow29_col5\" class=\"data row29 col5\" >23.940800</td>\n",
       "                        <td id=\"T_9bffde76_9c2a_11ea_96dc_5c879c640c7frow29_col6\" class=\"data row29 col6\" >91.988200</td>\n",
       "            </tr>\n",
       "            <tr>\n",
       "                        <th id=\"T_9bffde76_9c2a_11ea_96dc_5c879c640c7flevel0_row30\" class=\"row_heading level0 row30\" >30</th>\n",
       "                        <td id=\"T_9bffde76_9c2a_11ea_96dc_5c879c640c7frow30_col0\" class=\"data row30 col0\" >31</td>\n",
       "                        <td id=\"T_9bffde76_9c2a_11ea_96dc_5c879c640c7frow30_col1\" class=\"data row30 col1\" >Uttarakhand</td>\n",
       "                        <td id=\"T_9bffde76_9c2a_11ea_96dc_5c879c640c7frow30_col2\" class=\"data row30 col2\" >146</td>\n",
       "                        <td id=\"T_9bffde76_9c2a_11ea_96dc_5c879c640c7frow30_col3\" class=\"data row30 col3\" >54</td>\n",
       "                        <td id=\"T_9bffde76_9c2a_11ea_96dc_5c879c640c7frow30_col4\" class=\"data row30 col4\" >1</td>\n",
       "                        <td id=\"T_9bffde76_9c2a_11ea_96dc_5c879c640c7frow30_col5\" class=\"data row30 col5\" >30.066800</td>\n",
       "                        <td id=\"T_9bffde76_9c2a_11ea_96dc_5c879c640c7frow30_col6\" class=\"data row30 col6\" >79.019300</td>\n",
       "            </tr>\n",
       "            <tr>\n",
       "                        <th id=\"T_9bffde76_9c2a_11ea_96dc_5c879c640c7flevel0_row31\" class=\"row_heading level0 row31\" >31</th>\n",
       "                        <td id=\"T_9bffde76_9c2a_11ea_96dc_5c879c640c7frow31_col0\" class=\"data row31 col0\" >32</td>\n",
       "                        <td id=\"T_9bffde76_9c2a_11ea_96dc_5c879c640c7frow31_col1\" class=\"data row31 col1\" >Uttar Pradesh</td>\n",
       "                        <td id=\"T_9bffde76_9c2a_11ea_96dc_5c879c640c7frow31_col2\" class=\"data row31 col2\" >5515</td>\n",
       "                        <td id=\"T_9bffde76_9c2a_11ea_96dc_5c879c640c7frow31_col3\" class=\"data row31 col3\" >3204</td>\n",
       "                        <td id=\"T_9bffde76_9c2a_11ea_96dc_5c879c640c7frow31_col4\" class=\"data row31 col4\" >138</td>\n",
       "                        <td id=\"T_9bffde76_9c2a_11ea_96dc_5c879c640c7frow31_col5\" class=\"data row31 col5\" >26.846700</td>\n",
       "                        <td id=\"T_9bffde76_9c2a_11ea_96dc_5c879c640c7frow31_col6\" class=\"data row31 col6\" >80.946200</td>\n",
       "            </tr>\n",
       "            <tr>\n",
       "                        <th id=\"T_9bffde76_9c2a_11ea_96dc_5c879c640c7flevel0_row32\" class=\"row_heading level0 row32\" >32</th>\n",
       "                        <td id=\"T_9bffde76_9c2a_11ea_96dc_5c879c640c7frow32_col0\" class=\"data row32 col0\" >33</td>\n",
       "                        <td id=\"T_9bffde76_9c2a_11ea_96dc_5c879c640c7frow32_col1\" class=\"data row32 col1\" >West Bengal</td>\n",
       "                        <td id=\"T_9bffde76_9c2a_11ea_96dc_5c879c640c7frow32_col2\" class=\"data row32 col2\" >3197</td>\n",
       "                        <td id=\"T_9bffde76_9c2a_11ea_96dc_5c879c640c7frow32_col3\" class=\"data row32 col3\" >1193</td>\n",
       "                        <td id=\"T_9bffde76_9c2a_11ea_96dc_5c879c640c7frow32_col4\" class=\"data row32 col4\" >259</td>\n",
       "                        <td id=\"T_9bffde76_9c2a_11ea_96dc_5c879c640c7frow32_col5\" class=\"data row32 col5\" >22.986800</td>\n",
       "                        <td id=\"T_9bffde76_9c2a_11ea_96dc_5c879c640c7frow32_col6\" class=\"data row32 col6\" >87.855000</td>\n",
       "            </tr>\n",
       "    </tbody></table>"
      ],
      "text/plain": [
       "<pandas.io.formats.style.Styler at 0x1c914fc7ec8>"
      ]
     },
     "execution_count": 31,
     "metadata": {},
     "output_type": "execute_result"
    }
   ],
   "source": [
    "state_data.style.set_properties(**{'background-color': 'black',\n",
    "                            'color': 'lawngreen',\n",
    "                            'border-color': 'white'})"
   ]
  },
  {
   "cell_type": "markdown",
   "metadata": {},
   "source": [
    "# Geographical analysis"
   ]
  },
  {
   "cell_type": "code",
   "execution_count": 32,
   "metadata": {},
   "outputs": [
    {
     "data": {
      "application/vnd.plotly.v1+json": {
       "config": {
        "plotlyServerURL": "https://plot.ly"
       },
       "data": [
        {
         "customdata": [
          [
           33,
           33,
           0
          ],
          [
           2647,
           1709,
           53
          ],
          [
           1,
           1,
           0
          ],
          [
           203,
           54,
           4
          ],
          [
           1982,
           593,
           11
          ],
          [
           217,
           139,
           3
          ],
          [
           128,
           59,
           0
          ],
          [
           1,
           0,
           0
          ],
          [
           11659,
           5567,
           194
          ],
          [
           52,
           7,
           0
          ],
          [
           12905,
           5488,
           773
          ],
          [
           1031,
           681,
           15
          ],
          [
           152,
           59,
           3
          ],
          [
           1449,
           684,
           20
          ],
          [
           290,
           129,
           3
          ],
          [
           1605,
           571,
           41
          ],
          [
           690,
           510,
           4
          ],
          [
           44,
           43,
           0
          ],
          [
           5981,
           2843,
           270
          ],
          [
           41642,
           11726,
           1454
          ],
          [
           25,
           2,
           0
          ],
          [
           14,
           12,
           1
          ],
          [
           1,
           1,
           0
          ],
          [
           1103,
           393,
           7
          ],
          [
           20,
           10,
           0
          ],
          [
           2028,
           1819,
           39
          ],
          [
           6227,
           3485,
           151
          ],
          [
           13967,
           6282,
           94
          ],
          [
           1699,
           1035,
           45
          ],
          [
           173,
           148,
           0
          ],
          [
           146,
           54,
           1
          ],
          [
           5515,
           3204,
           138
          ],
          [
           3197,
           1193,
           259
          ]
         ],
         "hovertemplate": "<b>%{hovertext}</b><br><br>Confirmed=%{customdata[0]}<br>Recovered=%{customdata[1]}<br>Deceased=%{customdata[2]}<br>lat=%{lat}<br>lon=%{lon}<extra></extra>",
         "hovertext": [
          "Andaman and Nicobar Islands",
          "Andhra Pradesh",
          "Arunachal Pradesh",
          "Assam",
          "Bihar",
          "Chandigarh",
          "Chhattisgarh",
          "Dadar Nagar Haveli",
          "Delhi",
          "Goa",
          "Gujarat",
          "Haryana",
          "Himachal Pradesh",
          "Jammu and Kashmir",
          "Jharkhand",
          "Karnataka",
          "Kerala",
          "Ladakh",
          "Madhya Pradesh",
          "Maharashtra",
          "Manipur",
          "Meghalaya",
          "Mizoram",
          "Odisha",
          "Puducherry",
          "Punjab",
          "Rajasthan",
          "Tamil Nadu",
          "Telengana",
          "Tripura",
          "Uttarakhand",
          "Uttar Pradesh",
          "West Bengal"
         ],
         "lat": [
          11.7401,
          15.9129,
          28.218,
          26.244156,
          25.0961,
          30.7333,
          21.295132,
          20.1809,
          28.7041,
          15.2993,
          22.309425,
          29.065773,
          32.084206,
          33.7782,
          23.6102,
          15.317277,
          10.850516,
          34.209515,
          23.473324,
          19.66328,
          24.6637,
          25.467,
          23.1645,
          20.94092,
          11.9416,
          31.1471,
          27.0238,
          11.1271,
          18.1124,
          23.9408,
          30.0668,
          26.8467,
          22.9868
         ],
         "legendgroup": "",
         "lon": [
          92.6586,
          79.74,
          94.7278,
          92.537842,
          85.3131,
          76.7794,
          81.828232,
          73.0169,
          77.1025,
          74.124,
          72.13623,
          76.040497,
          77.571167,
          76.5762,
          85.2799,
          75.71389,
          76.27108,
          77.615112,
          77.947998,
          75.300293,
          93.9063,
          91.3662,
          92.9376,
          84.803467,
          79.8083,
          75.3412,
          74.2179,
          78.6569,
          79.0193,
          91.9882,
          79.0193,
          80.9462,
          87.855
         ],
         "marker": {
          "color": "firebrick"
         },
         "mode": "markers",
         "name": "",
         "showlegend": false,
         "subplot": "mapbox",
         "type": "scattermapbox"
        }
       ],
       "layout": {
        "height": 300,
        "legend": {
         "tracegroupgap": 0
        },
        "mapbox": {
         "center": {
          "lat": 23.18833103030303,
          "lon": 81.45898812121209
         },
         "domain": {
          "x": [
           0,
           1
          ],
          "y": [
           0,
           1
          ]
         },
         "style": "open-street-map",
         "zoom": 3
        },
        "margin": {
         "b": 0,
         "l": 0,
         "r": 0,
         "t": 0
        },
        "template": {
         "data": {
          "bar": [
           {
            "error_x": {
             "color": "#2a3f5f"
            },
            "error_y": {
             "color": "#2a3f5f"
            },
            "marker": {
             "line": {
              "color": "#E5ECF6",
              "width": 0.5
             }
            },
            "type": "bar"
           }
          ],
          "barpolar": [
           {
            "marker": {
             "line": {
              "color": "#E5ECF6",
              "width": 0.5
             }
            },
            "type": "barpolar"
           }
          ],
          "carpet": [
           {
            "aaxis": {
             "endlinecolor": "#2a3f5f",
             "gridcolor": "white",
             "linecolor": "white",
             "minorgridcolor": "white",
             "startlinecolor": "#2a3f5f"
            },
            "baxis": {
             "endlinecolor": "#2a3f5f",
             "gridcolor": "white",
             "linecolor": "white",
             "minorgridcolor": "white",
             "startlinecolor": "#2a3f5f"
            },
            "type": "carpet"
           }
          ],
          "choropleth": [
           {
            "colorbar": {
             "outlinewidth": 0,
             "ticks": ""
            },
            "type": "choropleth"
           }
          ],
          "contour": [
           {
            "colorbar": {
             "outlinewidth": 0,
             "ticks": ""
            },
            "colorscale": [
             [
              0,
              "#0d0887"
             ],
             [
              0.1111111111111111,
              "#46039f"
             ],
             [
              0.2222222222222222,
              "#7201a8"
             ],
             [
              0.3333333333333333,
              "#9c179e"
             ],
             [
              0.4444444444444444,
              "#bd3786"
             ],
             [
              0.5555555555555556,
              "#d8576b"
             ],
             [
              0.6666666666666666,
              "#ed7953"
             ],
             [
              0.7777777777777778,
              "#fb9f3a"
             ],
             [
              0.8888888888888888,
              "#fdca26"
             ],
             [
              1,
              "#f0f921"
             ]
            ],
            "type": "contour"
           }
          ],
          "contourcarpet": [
           {
            "colorbar": {
             "outlinewidth": 0,
             "ticks": ""
            },
            "type": "contourcarpet"
           }
          ],
          "heatmap": [
           {
            "colorbar": {
             "outlinewidth": 0,
             "ticks": ""
            },
            "colorscale": [
             [
              0,
              "#0d0887"
             ],
             [
              0.1111111111111111,
              "#46039f"
             ],
             [
              0.2222222222222222,
              "#7201a8"
             ],
             [
              0.3333333333333333,
              "#9c179e"
             ],
             [
              0.4444444444444444,
              "#bd3786"
             ],
             [
              0.5555555555555556,
              "#d8576b"
             ],
             [
              0.6666666666666666,
              "#ed7953"
             ],
             [
              0.7777777777777778,
              "#fb9f3a"
             ],
             [
              0.8888888888888888,
              "#fdca26"
             ],
             [
              1,
              "#f0f921"
             ]
            ],
            "type": "heatmap"
           }
          ],
          "heatmapgl": [
           {
            "colorbar": {
             "outlinewidth": 0,
             "ticks": ""
            },
            "colorscale": [
             [
              0,
              "#0d0887"
             ],
             [
              0.1111111111111111,
              "#46039f"
             ],
             [
              0.2222222222222222,
              "#7201a8"
             ],
             [
              0.3333333333333333,
              "#9c179e"
             ],
             [
              0.4444444444444444,
              "#bd3786"
             ],
             [
              0.5555555555555556,
              "#d8576b"
             ],
             [
              0.6666666666666666,
              "#ed7953"
             ],
             [
              0.7777777777777778,
              "#fb9f3a"
             ],
             [
              0.8888888888888888,
              "#fdca26"
             ],
             [
              1,
              "#f0f921"
             ]
            ],
            "type": "heatmapgl"
           }
          ],
          "histogram": [
           {
            "marker": {
             "colorbar": {
              "outlinewidth": 0,
              "ticks": ""
             }
            },
            "type": "histogram"
           }
          ],
          "histogram2d": [
           {
            "colorbar": {
             "outlinewidth": 0,
             "ticks": ""
            },
            "colorscale": [
             [
              0,
              "#0d0887"
             ],
             [
              0.1111111111111111,
              "#46039f"
             ],
             [
              0.2222222222222222,
              "#7201a8"
             ],
             [
              0.3333333333333333,
              "#9c179e"
             ],
             [
              0.4444444444444444,
              "#bd3786"
             ],
             [
              0.5555555555555556,
              "#d8576b"
             ],
             [
              0.6666666666666666,
              "#ed7953"
             ],
             [
              0.7777777777777778,
              "#fb9f3a"
             ],
             [
              0.8888888888888888,
              "#fdca26"
             ],
             [
              1,
              "#f0f921"
             ]
            ],
            "type": "histogram2d"
           }
          ],
          "histogram2dcontour": [
           {
            "colorbar": {
             "outlinewidth": 0,
             "ticks": ""
            },
            "colorscale": [
             [
              0,
              "#0d0887"
             ],
             [
              0.1111111111111111,
              "#46039f"
             ],
             [
              0.2222222222222222,
              "#7201a8"
             ],
             [
              0.3333333333333333,
              "#9c179e"
             ],
             [
              0.4444444444444444,
              "#bd3786"
             ],
             [
              0.5555555555555556,
              "#d8576b"
             ],
             [
              0.6666666666666666,
              "#ed7953"
             ],
             [
              0.7777777777777778,
              "#fb9f3a"
             ],
             [
              0.8888888888888888,
              "#fdca26"
             ],
             [
              1,
              "#f0f921"
             ]
            ],
            "type": "histogram2dcontour"
           }
          ],
          "mesh3d": [
           {
            "colorbar": {
             "outlinewidth": 0,
             "ticks": ""
            },
            "type": "mesh3d"
           }
          ],
          "parcoords": [
           {
            "line": {
             "colorbar": {
              "outlinewidth": 0,
              "ticks": ""
             }
            },
            "type": "parcoords"
           }
          ],
          "pie": [
           {
            "automargin": true,
            "type": "pie"
           }
          ],
          "scatter": [
           {
            "marker": {
             "colorbar": {
              "outlinewidth": 0,
              "ticks": ""
             }
            },
            "type": "scatter"
           }
          ],
          "scatter3d": [
           {
            "line": {
             "colorbar": {
              "outlinewidth": 0,
              "ticks": ""
             }
            },
            "marker": {
             "colorbar": {
              "outlinewidth": 0,
              "ticks": ""
             }
            },
            "type": "scatter3d"
           }
          ],
          "scattercarpet": [
           {
            "marker": {
             "colorbar": {
              "outlinewidth": 0,
              "ticks": ""
             }
            },
            "type": "scattercarpet"
           }
          ],
          "scattergeo": [
           {
            "marker": {
             "colorbar": {
              "outlinewidth": 0,
              "ticks": ""
             }
            },
            "type": "scattergeo"
           }
          ],
          "scattergl": [
           {
            "marker": {
             "colorbar": {
              "outlinewidth": 0,
              "ticks": ""
             }
            },
            "type": "scattergl"
           }
          ],
          "scattermapbox": [
           {
            "marker": {
             "colorbar": {
              "outlinewidth": 0,
              "ticks": ""
             }
            },
            "type": "scattermapbox"
           }
          ],
          "scatterpolar": [
           {
            "marker": {
             "colorbar": {
              "outlinewidth": 0,
              "ticks": ""
             }
            },
            "type": "scatterpolar"
           }
          ],
          "scatterpolargl": [
           {
            "marker": {
             "colorbar": {
              "outlinewidth": 0,
              "ticks": ""
             }
            },
            "type": "scatterpolargl"
           }
          ],
          "scatterternary": [
           {
            "marker": {
             "colorbar": {
              "outlinewidth": 0,
              "ticks": ""
             }
            },
            "type": "scatterternary"
           }
          ],
          "surface": [
           {
            "colorbar": {
             "outlinewidth": 0,
             "ticks": ""
            },
            "colorscale": [
             [
              0,
              "#0d0887"
             ],
             [
              0.1111111111111111,
              "#46039f"
             ],
             [
              0.2222222222222222,
              "#7201a8"
             ],
             [
              0.3333333333333333,
              "#9c179e"
             ],
             [
              0.4444444444444444,
              "#bd3786"
             ],
             [
              0.5555555555555556,
              "#d8576b"
             ],
             [
              0.6666666666666666,
              "#ed7953"
             ],
             [
              0.7777777777777778,
              "#fb9f3a"
             ],
             [
              0.8888888888888888,
              "#fdca26"
             ],
             [
              1,
              "#f0f921"
             ]
            ],
            "type": "surface"
           }
          ],
          "table": [
           {
            "cells": {
             "fill": {
              "color": "#EBF0F8"
             },
             "line": {
              "color": "white"
             }
            },
            "header": {
             "fill": {
              "color": "#C8D4E3"
             },
             "line": {
              "color": "white"
             }
            },
            "type": "table"
           }
          ]
         },
         "layout": {
          "annotationdefaults": {
           "arrowcolor": "#2a3f5f",
           "arrowhead": 0,
           "arrowwidth": 1
          },
          "coloraxis": {
           "colorbar": {
            "outlinewidth": 0,
            "ticks": ""
           }
          },
          "colorscale": {
           "diverging": [
            [
             0,
             "#8e0152"
            ],
            [
             0.1,
             "#c51b7d"
            ],
            [
             0.2,
             "#de77ae"
            ],
            [
             0.3,
             "#f1b6da"
            ],
            [
             0.4,
             "#fde0ef"
            ],
            [
             0.5,
             "#f7f7f7"
            ],
            [
             0.6,
             "#e6f5d0"
            ],
            [
             0.7,
             "#b8e186"
            ],
            [
             0.8,
             "#7fbc41"
            ],
            [
             0.9,
             "#4d9221"
            ],
            [
             1,
             "#276419"
            ]
           ],
           "sequential": [
            [
             0,
             "#0d0887"
            ],
            [
             0.1111111111111111,
             "#46039f"
            ],
            [
             0.2222222222222222,
             "#7201a8"
            ],
            [
             0.3333333333333333,
             "#9c179e"
            ],
            [
             0.4444444444444444,
             "#bd3786"
            ],
            [
             0.5555555555555556,
             "#d8576b"
            ],
            [
             0.6666666666666666,
             "#ed7953"
            ],
            [
             0.7777777777777778,
             "#fb9f3a"
            ],
            [
             0.8888888888888888,
             "#fdca26"
            ],
            [
             1,
             "#f0f921"
            ]
           ],
           "sequentialminus": [
            [
             0,
             "#0d0887"
            ],
            [
             0.1111111111111111,
             "#46039f"
            ],
            [
             0.2222222222222222,
             "#7201a8"
            ],
            [
             0.3333333333333333,
             "#9c179e"
            ],
            [
             0.4444444444444444,
             "#bd3786"
            ],
            [
             0.5555555555555556,
             "#d8576b"
            ],
            [
             0.6666666666666666,
             "#ed7953"
            ],
            [
             0.7777777777777778,
             "#fb9f3a"
            ],
            [
             0.8888888888888888,
             "#fdca26"
            ],
            [
             1,
             "#f0f921"
            ]
           ]
          },
          "colorway": [
           "#636efa",
           "#EF553B",
           "#00cc96",
           "#ab63fa",
           "#FFA15A",
           "#19d3f3",
           "#FF6692",
           "#B6E880",
           "#FF97FF",
           "#FECB52"
          ],
          "font": {
           "color": "#2a3f5f"
          },
          "geo": {
           "bgcolor": "white",
           "lakecolor": "white",
           "landcolor": "#E5ECF6",
           "showlakes": true,
           "showland": true,
           "subunitcolor": "white"
          },
          "hoverlabel": {
           "align": "left"
          },
          "hovermode": "closest",
          "mapbox": {
           "style": "light"
          },
          "paper_bgcolor": "white",
          "plot_bgcolor": "#E5ECF6",
          "polar": {
           "angularaxis": {
            "gridcolor": "white",
            "linecolor": "white",
            "ticks": ""
           },
           "bgcolor": "#E5ECF6",
           "radialaxis": {
            "gridcolor": "white",
            "linecolor": "white",
            "ticks": ""
           }
          },
          "scene": {
           "xaxis": {
            "backgroundcolor": "#E5ECF6",
            "gridcolor": "white",
            "gridwidth": 2,
            "linecolor": "white",
            "showbackground": true,
            "ticks": "",
            "zerolinecolor": "white"
           },
           "yaxis": {
            "backgroundcolor": "#E5ECF6",
            "gridcolor": "white",
            "gridwidth": 2,
            "linecolor": "white",
            "showbackground": true,
            "ticks": "",
            "zerolinecolor": "white"
           },
           "zaxis": {
            "backgroundcolor": "#E5ECF6",
            "gridcolor": "white",
            "gridwidth": 2,
            "linecolor": "white",
            "showbackground": true,
            "ticks": "",
            "zerolinecolor": "white"
           }
          },
          "shapedefaults": {
           "line": {
            "color": "#2a3f5f"
           }
          },
          "ternary": {
           "aaxis": {
            "gridcolor": "white",
            "linecolor": "white",
            "ticks": ""
           },
           "baxis": {
            "gridcolor": "white",
            "linecolor": "white",
            "ticks": ""
           },
           "bgcolor": "#E5ECF6",
           "caxis": {
            "gridcolor": "white",
            "linecolor": "white",
            "ticks": ""
           }
          },
          "title": {
           "x": 0.05
          },
          "xaxis": {
           "automargin": true,
           "gridcolor": "white",
           "linecolor": "white",
           "ticks": "",
           "title": {
            "standoff": 15
           },
           "zerolinecolor": "white",
           "zerolinewidth": 2
          },
          "yaxis": {
           "automargin": true,
           "gridcolor": "white",
           "linecolor": "white",
           "ticks": "",
           "title": {
            "standoff": 15
           },
           "zerolinecolor": "white",
           "zerolinewidth": 2
          }
         }
        }
       }
      },
      "text/html": [
       "<div>\n",
       "        \n",
       "        \n",
       "            <div id=\"6b370b3b-583a-498b-ba35-1c2c168a5435\" class=\"plotly-graph-div\" style=\"height:300px; width:100%;\"></div>\n",
       "            <script type=\"text/javascript\">\n",
       "                require([\"plotly\"], function(Plotly) {\n",
       "                    window.PLOTLYENV=window.PLOTLYENV || {};\n",
       "                    \n",
       "                if (document.getElementById(\"6b370b3b-583a-498b-ba35-1c2c168a5435\")) {\n",
       "                    Plotly.newPlot(\n",
       "                        '6b370b3b-583a-498b-ba35-1c2c168a5435',\n",
       "                        [{\"customdata\": [[33, 33, 0], [2647, 1709, 53], [1, 1, 0], [203, 54, 4], [1982, 593, 11], [217, 139, 3], [128, 59, 0], [1, 0, 0], [11659, 5567, 194], [52, 7, 0], [12905, 5488, 773], [1031, 681, 15], [152, 59, 3], [1449, 684, 20], [290, 129, 3], [1605, 571, 41], [690, 510, 4], [44, 43, 0], [5981, 2843, 270], [41642, 11726, 1454], [25, 2, 0], [14, 12, 1], [1, 1, 0], [1103, 393, 7], [20, 10, 0], [2028, 1819, 39], [6227, 3485, 151], [13967, 6282, 94], [1699, 1035, 45], [173, 148, 0], [146, 54, 1], [5515, 3204, 138], [3197, 1193, 259]], \"hovertemplate\": \"<b>%{hovertext}</b><br><br>Confirmed=%{customdata[0]}<br>Recovered=%{customdata[1]}<br>Deceased=%{customdata[2]}<br>lat=%{lat}<br>lon=%{lon}<extra></extra>\", \"hovertext\": [\"Andaman and Nicobar Islands\", \"Andhra Pradesh\", \"Arunachal Pradesh\", \"Assam\", \"Bihar\", \"Chandigarh\", \"Chhattisgarh\", \"Dadar Nagar Haveli\", \"Delhi\", \"Goa\", \"Gujarat\", \"Haryana\", \"Himachal Pradesh\", \"Jammu and Kashmir\", \"Jharkhand\", \"Karnataka\", \"Kerala\", \"Ladakh\", \"Madhya Pradesh\", \"Maharashtra\", \"Manipur\", \"Meghalaya\", \"Mizoram\", \"Odisha\", \"Puducherry\", \"Punjab\", \"Rajasthan\", \"Tamil Nadu\", \"Telengana\", \"Tripura\", \"Uttarakhand\", \"Uttar Pradesh\", \"West Bengal\"], \"lat\": [11.7401, 15.9129, 28.218, 26.244156, 25.0961, 30.7333, 21.295132, 20.1809, 28.7041, 15.2993, 22.309425, 29.065773, 32.084206, 33.7782, 23.6102, 15.317277, 10.850516, 34.209515, 23.473324, 19.66328, 24.6637, 25.467, 23.1645, 20.94092, 11.9416, 31.1471, 27.0238, 11.1271, 18.1124, 23.9408, 30.0668, 26.8467, 22.9868], \"legendgroup\": \"\", \"lon\": [92.6586, 79.74, 94.7278, 92.537842, 85.3131, 76.7794, 81.828232, 73.0169, 77.1025, 74.124, 72.13623, 76.040497, 77.571167, 76.5762, 85.2799, 75.71389, 76.27108, 77.615112, 77.947998, 75.300293, 93.9063, 91.3662, 92.9376, 84.803467, 79.8083, 75.3412, 74.2179, 78.6569, 79.0193, 91.9882, 79.0193, 80.9462, 87.855], \"marker\": {\"color\": \"firebrick\"}, \"mode\": \"markers\", \"name\": \"\", \"showlegend\": false, \"subplot\": \"mapbox\", \"type\": \"scattermapbox\"}],\n",
       "                        {\"height\": 300, \"legend\": {\"tracegroupgap\": 0}, \"mapbox\": {\"center\": {\"lat\": 23.18833103030303, \"lon\": 81.45898812121209}, \"domain\": {\"x\": [0.0, 1.0], \"y\": [0.0, 1.0]}, \"style\": \"open-street-map\", \"zoom\": 3}, \"margin\": {\"b\": 0, \"l\": 0, \"r\": 0, \"t\": 0}, \"template\": {\"data\": {\"bar\": [{\"error_x\": {\"color\": \"#2a3f5f\"}, \"error_y\": {\"color\": \"#2a3f5f\"}, \"marker\": {\"line\": {\"color\": \"#E5ECF6\", \"width\": 0.5}}, \"type\": \"bar\"}], \"barpolar\": [{\"marker\": {\"line\": {\"color\": \"#E5ECF6\", \"width\": 0.5}}, \"type\": \"barpolar\"}], \"carpet\": [{\"aaxis\": {\"endlinecolor\": \"#2a3f5f\", \"gridcolor\": \"white\", \"linecolor\": \"white\", \"minorgridcolor\": \"white\", \"startlinecolor\": \"#2a3f5f\"}, \"baxis\": {\"endlinecolor\": \"#2a3f5f\", \"gridcolor\": \"white\", \"linecolor\": \"white\", \"minorgridcolor\": \"white\", \"startlinecolor\": \"#2a3f5f\"}, \"type\": \"carpet\"}], \"choropleth\": [{\"colorbar\": {\"outlinewidth\": 0, \"ticks\": \"\"}, \"type\": \"choropleth\"}], \"contour\": [{\"colorbar\": {\"outlinewidth\": 0, \"ticks\": \"\"}, \"colorscale\": [[0.0, \"#0d0887\"], [0.1111111111111111, \"#46039f\"], [0.2222222222222222, \"#7201a8\"], [0.3333333333333333, \"#9c179e\"], [0.4444444444444444, \"#bd3786\"], [0.5555555555555556, \"#d8576b\"], [0.6666666666666666, \"#ed7953\"], [0.7777777777777778, \"#fb9f3a\"], [0.8888888888888888, \"#fdca26\"], [1.0, \"#f0f921\"]], \"type\": \"contour\"}], \"contourcarpet\": [{\"colorbar\": {\"outlinewidth\": 0, \"ticks\": \"\"}, \"type\": \"contourcarpet\"}], \"heatmap\": [{\"colorbar\": {\"outlinewidth\": 0, \"ticks\": \"\"}, \"colorscale\": [[0.0, \"#0d0887\"], [0.1111111111111111, \"#46039f\"], [0.2222222222222222, \"#7201a8\"], [0.3333333333333333, \"#9c179e\"], [0.4444444444444444, \"#bd3786\"], [0.5555555555555556, \"#d8576b\"], [0.6666666666666666, \"#ed7953\"], [0.7777777777777778, \"#fb9f3a\"], [0.8888888888888888, \"#fdca26\"], [1.0, \"#f0f921\"]], \"type\": \"heatmap\"}], \"heatmapgl\": [{\"colorbar\": {\"outlinewidth\": 0, \"ticks\": \"\"}, \"colorscale\": [[0.0, \"#0d0887\"], [0.1111111111111111, \"#46039f\"], [0.2222222222222222, \"#7201a8\"], [0.3333333333333333, \"#9c179e\"], [0.4444444444444444, \"#bd3786\"], [0.5555555555555556, \"#d8576b\"], [0.6666666666666666, \"#ed7953\"], [0.7777777777777778, \"#fb9f3a\"], [0.8888888888888888, \"#fdca26\"], [1.0, \"#f0f921\"]], \"type\": \"heatmapgl\"}], \"histogram\": [{\"marker\": {\"colorbar\": {\"outlinewidth\": 0, \"ticks\": \"\"}}, \"type\": \"histogram\"}], \"histogram2d\": [{\"colorbar\": {\"outlinewidth\": 0, \"ticks\": \"\"}, \"colorscale\": [[0.0, \"#0d0887\"], [0.1111111111111111, \"#46039f\"], [0.2222222222222222, \"#7201a8\"], [0.3333333333333333, \"#9c179e\"], [0.4444444444444444, \"#bd3786\"], [0.5555555555555556, \"#d8576b\"], [0.6666666666666666, \"#ed7953\"], [0.7777777777777778, \"#fb9f3a\"], [0.8888888888888888, \"#fdca26\"], [1.0, \"#f0f921\"]], \"type\": \"histogram2d\"}], \"histogram2dcontour\": [{\"colorbar\": {\"outlinewidth\": 0, \"ticks\": \"\"}, \"colorscale\": [[0.0, \"#0d0887\"], [0.1111111111111111, \"#46039f\"], [0.2222222222222222, \"#7201a8\"], [0.3333333333333333, \"#9c179e\"], [0.4444444444444444, \"#bd3786\"], [0.5555555555555556, \"#d8576b\"], [0.6666666666666666, \"#ed7953\"], [0.7777777777777778, \"#fb9f3a\"], [0.8888888888888888, \"#fdca26\"], [1.0, \"#f0f921\"]], \"type\": \"histogram2dcontour\"}], \"mesh3d\": [{\"colorbar\": {\"outlinewidth\": 0, \"ticks\": \"\"}, \"type\": \"mesh3d\"}], \"parcoords\": [{\"line\": {\"colorbar\": {\"outlinewidth\": 0, \"ticks\": \"\"}}, \"type\": \"parcoords\"}], \"pie\": [{\"automargin\": true, \"type\": \"pie\"}], \"scatter\": [{\"marker\": {\"colorbar\": {\"outlinewidth\": 0, \"ticks\": \"\"}}, \"type\": \"scatter\"}], \"scatter3d\": [{\"line\": {\"colorbar\": {\"outlinewidth\": 0, \"ticks\": \"\"}}, \"marker\": {\"colorbar\": {\"outlinewidth\": 0, \"ticks\": \"\"}}, \"type\": \"scatter3d\"}], \"scattercarpet\": [{\"marker\": {\"colorbar\": {\"outlinewidth\": 0, \"ticks\": \"\"}}, \"type\": \"scattercarpet\"}], \"scattergeo\": [{\"marker\": {\"colorbar\": {\"outlinewidth\": 0, \"ticks\": \"\"}}, \"type\": \"scattergeo\"}], \"scattergl\": [{\"marker\": {\"colorbar\": {\"outlinewidth\": 0, \"ticks\": \"\"}}, \"type\": \"scattergl\"}], \"scattermapbox\": [{\"marker\": {\"colorbar\": {\"outlinewidth\": 0, \"ticks\": \"\"}}, \"type\": \"scattermapbox\"}], \"scatterpolar\": [{\"marker\": {\"colorbar\": {\"outlinewidth\": 0, \"ticks\": \"\"}}, \"type\": \"scatterpolar\"}], \"scatterpolargl\": [{\"marker\": {\"colorbar\": {\"outlinewidth\": 0, \"ticks\": \"\"}}, \"type\": \"scatterpolargl\"}], \"scatterternary\": [{\"marker\": {\"colorbar\": {\"outlinewidth\": 0, \"ticks\": \"\"}}, \"type\": \"scatterternary\"}], \"surface\": [{\"colorbar\": {\"outlinewidth\": 0, \"ticks\": \"\"}, \"colorscale\": [[0.0, \"#0d0887\"], [0.1111111111111111, \"#46039f\"], [0.2222222222222222, \"#7201a8\"], [0.3333333333333333, \"#9c179e\"], [0.4444444444444444, \"#bd3786\"], [0.5555555555555556, \"#d8576b\"], [0.6666666666666666, \"#ed7953\"], [0.7777777777777778, \"#fb9f3a\"], [0.8888888888888888, \"#fdca26\"], [1.0, \"#f0f921\"]], \"type\": \"surface\"}], \"table\": [{\"cells\": {\"fill\": {\"color\": \"#EBF0F8\"}, \"line\": {\"color\": \"white\"}}, \"header\": {\"fill\": {\"color\": \"#C8D4E3\"}, \"line\": {\"color\": \"white\"}}, \"type\": \"table\"}]}, \"layout\": {\"annotationdefaults\": {\"arrowcolor\": \"#2a3f5f\", \"arrowhead\": 0, \"arrowwidth\": 1}, \"coloraxis\": {\"colorbar\": {\"outlinewidth\": 0, \"ticks\": \"\"}}, \"colorscale\": {\"diverging\": [[0, \"#8e0152\"], [0.1, \"#c51b7d\"], [0.2, \"#de77ae\"], [0.3, \"#f1b6da\"], [0.4, \"#fde0ef\"], [0.5, \"#f7f7f7\"], [0.6, \"#e6f5d0\"], [0.7, \"#b8e186\"], [0.8, \"#7fbc41\"], [0.9, \"#4d9221\"], [1, \"#276419\"]], \"sequential\": [[0.0, \"#0d0887\"], [0.1111111111111111, \"#46039f\"], [0.2222222222222222, \"#7201a8\"], [0.3333333333333333, \"#9c179e\"], [0.4444444444444444, \"#bd3786\"], [0.5555555555555556, \"#d8576b\"], [0.6666666666666666, \"#ed7953\"], [0.7777777777777778, \"#fb9f3a\"], [0.8888888888888888, \"#fdca26\"], [1.0, \"#f0f921\"]], \"sequentialminus\": [[0.0, \"#0d0887\"], [0.1111111111111111, \"#46039f\"], [0.2222222222222222, \"#7201a8\"], [0.3333333333333333, \"#9c179e\"], [0.4444444444444444, \"#bd3786\"], [0.5555555555555556, \"#d8576b\"], [0.6666666666666666, \"#ed7953\"], [0.7777777777777778, \"#fb9f3a\"], [0.8888888888888888, \"#fdca26\"], [1.0, \"#f0f921\"]]}, \"colorway\": [\"#636efa\", \"#EF553B\", \"#00cc96\", \"#ab63fa\", \"#FFA15A\", \"#19d3f3\", \"#FF6692\", \"#B6E880\", \"#FF97FF\", \"#FECB52\"], \"font\": {\"color\": \"#2a3f5f\"}, \"geo\": {\"bgcolor\": \"white\", \"lakecolor\": \"white\", \"landcolor\": \"#E5ECF6\", \"showlakes\": true, \"showland\": true, \"subunitcolor\": \"white\"}, \"hoverlabel\": {\"align\": \"left\"}, \"hovermode\": \"closest\", \"mapbox\": {\"style\": \"light\"}, \"paper_bgcolor\": \"white\", \"plot_bgcolor\": \"#E5ECF6\", \"polar\": {\"angularaxis\": {\"gridcolor\": \"white\", \"linecolor\": \"white\", \"ticks\": \"\"}, \"bgcolor\": \"#E5ECF6\", \"radialaxis\": {\"gridcolor\": \"white\", \"linecolor\": \"white\", \"ticks\": \"\"}}, \"scene\": {\"xaxis\": {\"backgroundcolor\": \"#E5ECF6\", \"gridcolor\": \"white\", \"gridwidth\": 2, \"linecolor\": \"white\", \"showbackground\": true, \"ticks\": \"\", \"zerolinecolor\": \"white\"}, \"yaxis\": {\"backgroundcolor\": \"#E5ECF6\", \"gridcolor\": \"white\", \"gridwidth\": 2, \"linecolor\": \"white\", \"showbackground\": true, \"ticks\": \"\", \"zerolinecolor\": \"white\"}, \"zaxis\": {\"backgroundcolor\": \"#E5ECF6\", \"gridcolor\": \"white\", \"gridwidth\": 2, \"linecolor\": \"white\", \"showbackground\": true, \"ticks\": \"\", \"zerolinecolor\": \"white\"}}, \"shapedefaults\": {\"line\": {\"color\": \"#2a3f5f\"}}, \"ternary\": {\"aaxis\": {\"gridcolor\": \"white\", \"linecolor\": \"white\", \"ticks\": \"\"}, \"baxis\": {\"gridcolor\": \"white\", \"linecolor\": \"white\", \"ticks\": \"\"}, \"bgcolor\": \"#E5ECF6\", \"caxis\": {\"gridcolor\": \"white\", \"linecolor\": \"white\", \"ticks\": \"\"}}, \"title\": {\"x\": 0.05}, \"xaxis\": {\"automargin\": true, \"gridcolor\": \"white\", \"linecolor\": \"white\", \"ticks\": \"\", \"title\": {\"standoff\": 15}, \"zerolinecolor\": \"white\", \"zerolinewidth\": 2}, \"yaxis\": {\"automargin\": true, \"gridcolor\": \"white\", \"linecolor\": \"white\", \"ticks\": \"\", \"title\": {\"standoff\": 15}, \"zerolinecolor\": \"white\", \"zerolinewidth\": 2}}}},\n",
       "                        {\"responsive\": true}\n",
       "                    ).then(function(){\n",
       "                            \n",
       "var gd = document.getElementById('6b370b3b-583a-498b-ba35-1c2c168a5435');\n",
       "var x = new MutationObserver(function (mutations, observer) {{\n",
       "        var display = window.getComputedStyle(gd).display;\n",
       "        if (!display || display === 'none') {{\n",
       "            console.log([gd, 'removed!']);\n",
       "            Plotly.purge(gd);\n",
       "            observer.disconnect();\n",
       "        }}\n",
       "}});\n",
       "\n",
       "// Listen for the removal of the full notebook cells\n",
       "var notebookContainer = gd.closest('#notebook-container');\n",
       "if (notebookContainer) {{\n",
       "    x.observe(notebookContainer, {childList: true});\n",
       "}}\n",
       "\n",
       "// Listen for the clearing of the current output cell\n",
       "var outputEl = gd.closest('.output');\n",
       "if (outputEl) {{\n",
       "    x.observe(outputEl, {childList: true});\n",
       "}}\n",
       "\n",
       "                        })\n",
       "                };\n",
       "                });\n",
       "            </script>\n",
       "        </div>"
      ]
     },
     "metadata": {},
     "output_type": "display_data"
    }
   ],
   "source": [
    "fig = px.scatter_mapbox(state_data,lat=\"lat\", lon=\"lon\", hover_name=\"States/UT\", hover_data=[\"Confirmed\",'Recovered','Deceased'],\n",
    "                            color_discrete_sequence=[\"firebrick\"], zoom=3, height=300)\n",
    "fig.update_layout(mapbox_style=\"open-street-map\")\n",
    "fig.update_layout(margin={\"r\":0,\"t\":0,\"l\":0,\"b\":0})"
   ]
  },
  {
   "cell_type": "markdown",
   "metadata": {},
   "source": [
    "# State wise confirmed cases in india"
   ]
  },
  {
   "cell_type": "code",
   "execution_count": 33,
   "metadata": {},
   "outputs": [
    {
     "data": {
      "text/plain": [
       "(array([    0.,  5000., 10000., 15000., 20000., 25000., 30000., 35000.,\n",
       "        40000., 45000.]),\n",
       " <a list of 10 Text xticklabel objects>)"
      ]
     },
     "execution_count": 33,
     "metadata": {},
     "output_type": "execute_result"
    },
    {
     "data": {
      "image/png": "[encoded data removed]",
      "text/plain": [
       "<Figure size 1440x1080 with 1 Axes>"
      ]
     },
     "metadata": {
      "needs_background": "light"
     },
     "output_type": "display_data"
    }
   ],
   "source": [
    "plt.figure(figsize=(20,15))\n",
    "plt.barh(state_data['States/UT'],state_data['Confirmed'],color=['red','blue','green','orange','yellow','pink'])\n",
    "for index, value in enumerate(state_data['Confirmed']):\n",
    "    plt.text(value, index, str(value))\n",
    "plt.title('State-wise COVID-19 indicator ')  \n",
    "plt.xlabel('No of Confirmed cases',fontsize=20)\n",
    "plt.ylabel('States',fontsize=20)\n",
    "plt.yticks(fontsize=15)\n",
    "plt.xticks(fontsize=18)"
   ]
  },
  {
   "cell_type": "code",
   "execution_count": 34,
   "metadata": {},
   "outputs": [
    {
     "data": {
      "text/plain": [
       "Text(0.5, 1.0, 'Nationwide total Confirmed, Recovered and Deceased Cases')"
      ]
     },
     "execution_count": 34,
     "metadata": {},
     "output_type": "execute_result"
    },
    {
     "data": {
      "image/png": "[encoded data removed]",
      "text/plain": [
       "<Figure size 576x576 with 1 Axes>"
      ]
     },
     "metadata": {},
     "output_type": "display_data"
    }
   ],
   "source": [
    "plt.figure(figsize=(8,8))\n",
    "size = [sum(state_data['Confirmed']),sum(state_data['Recovered']),sum(state_data['Deceased'])]\n",
    "labels = ['Confirmed\\n'+str(sum(state_data['Confirmed'])),\n",
    "          'Recovered\\n'+str(sum(state_data['Recovered'])),\n",
    "          'Deceased\\n'+str(sum(state_data['Deceased']))]\n",
    "colors = ['skyblue','green','orange']\n",
    "explode = [0,0,0.2]\n",
    "plt.pie(size,labels=labels,colors=colors,explode=explode)\n",
    "central_circle = plt.Circle((0,0), 0.5, color = 'white')\n",
    "fig = plt.gcf()\n",
    "#Add an Artist to the axes, and return the artist.\n",
    "fig.gca().add_artist(central_circle)\n",
    "plt.title('Nationwide total Confirmed, Recovered and Deceased Cases', fontsize = 16)"
   ]
  }
 ],
 "metadata": {
  "kernelspec": {
   "display_name": "Python 3",
   "language": "python",
   "name": "python3"
  },
  "language_info": {
   "codemirror_mode": {
    "name": "ipython",
    "version": 3
   },
   "file_extension": ".py",
   "mimetype": "text/x-python",
   "name": "python",
   "nbconvert_exporter": "python",
   "pygments_lexer": "ipython3",
   "version": "3.7.6"
  }
 },
 "nbformat": 4,
 "nbformat_minor": 4
}
